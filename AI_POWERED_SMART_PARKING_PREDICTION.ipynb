{
  "nbformat": 4,
  "nbformat_minor": 0,
  "metadata": {
    "colab": {
      "provenance": []
    },
    "kernelspec": {
      "name": "python3",
      "display_name": "Python 3"
    },
    "language_info": {
      "name": "python"
    }
  },
  "cells": [
    {
      "cell_type": "code",
      "source": [
        "# Step 1: Import libraries\n",
        "import pandas as pd\n",
        "import numpy as np"
      ],
      "metadata": {
        "id": "4LpKT73uouHP"
      },
      "execution_count": null,
      "outputs": []
    },
    {
      "cell_type": "code",
      "source": [
        "# Step 2: Load your final dataset\n",
        "df = pd.read_csv('/content/CanIpark.csv')  # Replace with your correct file name\n",
        "\n",
        "print(\"✅ Data loaded successfully!\")"
      ],
      "metadata": {
        "colab": {
          "base_uri": "https://localhost:8080/"
        },
        "id": "0_B2Ng7uouD2",
        "outputId": "ed4893aa-88e2-4d5a-cd57-5d086c45380c"
      },
      "execution_count": null,
      "outputs": [
        {
          "output_type": "stream",
          "name": "stdout",
          "text": [
            "✅ Data loaded successfully!\n"
          ]
        }
      ]
    },
    {
      "cell_type": "code",
      "source": [
        "# Step 3: Check Missing Values\n",
        "print(\"\\nMissing Values Check:\")\n",
        "print(df.isnull().sum())"
      ],
      "metadata": {
        "colab": {
          "base_uri": "https://localhost:8080/"
        },
        "id": "ikLhtrzUouAo",
        "outputId": "5fac2a8a-592a-47da-a679-c1e5bd896cf5"
      },
      "execution_count": null,
      "outputs": [
        {
          "output_type": "stream",
          "name": "stdout",
          "text": [
            "\n",
            "Missing Values Check:\n",
            "Slot Number                0\n",
            "Date                       0\n",
            "Timing                     0\n",
            "Day                        0\n",
            "Street Name                0\n",
            "Zone ID                    0\n",
            "Latitude                   0\n",
            "Longitude                  0\n",
            "Slot Length                0\n",
            "Paid/Free                  0\n",
            "Filled/Empty               0\n",
            "pf_color                   0\n",
            "ef_color                   0\n",
            "Status                     0\n",
            "Paid End Time              0\n",
            "Street Cleaning Days       0\n",
            "Street Cleaning Timings    0\n",
            "Negative                   0\n",
            "Neutral                    0\n",
            "Positive                   0\n",
            "Rating                     0\n",
            "dtype: int64\n"
          ]
        }
      ]
    },
    {
      "cell_type": "code",
      "source": [
        "df.describe()"
      ],
      "metadata": {
        "colab": {
          "base_uri": "https://localhost:8080/",
          "height": 337
        },
        "id": "KimM6MmxpDvM",
        "outputId": "89faf2e7-fbeb-4f19-88e8-ef22cfe5e2bb"
      },
      "execution_count": null,
      "outputs": [
        {
          "output_type": "execute_result",
          "data": {
            "text/plain": [
              "         Slot Number       Latitude      Longitude  Slot Length  \\\n",
              "count  177600.000000  177600.000000  177600.000000     177600.0   \n",
              "mean      555.500000      40.743772     -74.140565         10.0   \n",
              "std       320.430171       0.000513       0.009613          0.0   \n",
              "min         1.000000      40.742100     -74.157200         10.0   \n",
              "25%       278.000000      40.743450     -74.148890         10.0   \n",
              "50%       555.500000      40.743870     -74.140565         10.0   \n",
              "75%       833.000000      40.744170     -74.132240         10.0   \n",
              "max      1110.000000      40.744500     -74.123930         10.0   \n",
              "\n",
              "            Negative        Neutral       Positive        Rating  \n",
              "count  177600.000000  177600.000000  177600.000000  177600.00000  \n",
              "mean       15.108108      12.378378      90.009009       3.45045  \n",
              "std         8.745012       6.254463      32.055081       0.82461  \n",
              "min         2.000000       4.000000      37.000000       2.00000  \n",
              "25%        14.000000      11.000000      85.000000       3.00000  \n",
              "50%        15.000000      11.000000      86.000000       3.00000  \n",
              "75%        15.000000      14.000000     105.000000       4.00000  \n",
              "max        42.000000      31.000000     163.000000       5.00000  "
            ],
            "text/html": [
              "\n",
              "  <div id=\"df-0082789d-68cc-418d-aa3a-a1c4edf91278\" class=\"colab-df-container\">\n",
              "    <div>\n",
              "<style scoped>\n",
              "    .dataframe tbody tr th:only-of-type {\n",
              "        vertical-align: middle;\n",
              "    }\n",
              "\n",
              "    .dataframe tbody tr th {\n",
              "        vertical-align: top;\n",
              "    }\n",
              "\n",
              "    .dataframe thead th {\n",
              "        text-align: right;\n",
              "    }\n",
              "</style>\n",
              "<table border=\"1\" class=\"dataframe\">\n",
              "  <thead>\n",
              "    <tr style=\"text-align: right;\">\n",
              "      <th></th>\n",
              "      <th>Slot Number</th>\n",
              "      <th>Latitude</th>\n",
              "      <th>Longitude</th>\n",
              "      <th>Slot Length</th>\n",
              "      <th>Negative</th>\n",
              "      <th>Neutral</th>\n",
              "      <th>Positive</th>\n",
              "      <th>Rating</th>\n",
              "    </tr>\n",
              "  </thead>\n",
              "  <tbody>\n",
              "    <tr>\n",
              "      <th>count</th>\n",
              "      <td>177600.000000</td>\n",
              "      <td>177600.000000</td>\n",
              "      <td>177600.000000</td>\n",
              "      <td>177600.0</td>\n",
              "      <td>177600.000000</td>\n",
              "      <td>177600.000000</td>\n",
              "      <td>177600.000000</td>\n",
              "      <td>177600.00000</td>\n",
              "    </tr>\n",
              "    <tr>\n",
              "      <th>mean</th>\n",
              "      <td>555.500000</td>\n",
              "      <td>40.743772</td>\n",
              "      <td>-74.140565</td>\n",
              "      <td>10.0</td>\n",
              "      <td>15.108108</td>\n",
              "      <td>12.378378</td>\n",
              "      <td>90.009009</td>\n",
              "      <td>3.45045</td>\n",
              "    </tr>\n",
              "    <tr>\n",
              "      <th>std</th>\n",
              "      <td>320.430171</td>\n",
              "      <td>0.000513</td>\n",
              "      <td>0.009613</td>\n",
              "      <td>0.0</td>\n",
              "      <td>8.745012</td>\n",
              "      <td>6.254463</td>\n",
              "      <td>32.055081</td>\n",
              "      <td>0.82461</td>\n",
              "    </tr>\n",
              "    <tr>\n",
              "      <th>min</th>\n",
              "      <td>1.000000</td>\n",
              "      <td>40.742100</td>\n",
              "      <td>-74.157200</td>\n",
              "      <td>10.0</td>\n",
              "      <td>2.000000</td>\n",
              "      <td>4.000000</td>\n",
              "      <td>37.000000</td>\n",
              "      <td>2.00000</td>\n",
              "    </tr>\n",
              "    <tr>\n",
              "      <th>25%</th>\n",
              "      <td>278.000000</td>\n",
              "      <td>40.743450</td>\n",
              "      <td>-74.148890</td>\n",
              "      <td>10.0</td>\n",
              "      <td>14.000000</td>\n",
              "      <td>11.000000</td>\n",
              "      <td>85.000000</td>\n",
              "      <td>3.00000</td>\n",
              "    </tr>\n",
              "    <tr>\n",
              "      <th>50%</th>\n",
              "      <td>555.500000</td>\n",
              "      <td>40.743870</td>\n",
              "      <td>-74.140565</td>\n",
              "      <td>10.0</td>\n",
              "      <td>15.000000</td>\n",
              "      <td>11.000000</td>\n",
              "      <td>86.000000</td>\n",
              "      <td>3.00000</td>\n",
              "    </tr>\n",
              "    <tr>\n",
              "      <th>75%</th>\n",
              "      <td>833.000000</td>\n",
              "      <td>40.744170</td>\n",
              "      <td>-74.132240</td>\n",
              "      <td>10.0</td>\n",
              "      <td>15.000000</td>\n",
              "      <td>14.000000</td>\n",
              "      <td>105.000000</td>\n",
              "      <td>4.00000</td>\n",
              "    </tr>\n",
              "    <tr>\n",
              "      <th>max</th>\n",
              "      <td>1110.000000</td>\n",
              "      <td>40.744500</td>\n",
              "      <td>-74.123930</td>\n",
              "      <td>10.0</td>\n",
              "      <td>42.000000</td>\n",
              "      <td>31.000000</td>\n",
              "      <td>163.000000</td>\n",
              "      <td>5.00000</td>\n",
              "    </tr>\n",
              "  </tbody>\n",
              "</table>\n",
              "</div>\n",
              "    <div class=\"colab-df-buttons\">\n",
              "\n",
              "  <div class=\"colab-df-container\">\n",
              "    <button class=\"colab-df-convert\" onclick=\"convertToInteractive('df-0082789d-68cc-418d-aa3a-a1c4edf91278')\"\n",
              "            title=\"Convert this dataframe to an interactive table.\"\n",
              "            style=\"display:none;\">\n",
              "\n",
              "  <svg xmlns=\"http://www.w3.org/2000/svg\" height=\"24px\" viewBox=\"0 -960 960 960\">\n",
              "    <path d=\"M120-120v-720h720v720H120Zm60-500h600v-160H180v160Zm220 220h160v-160H400v160Zm0 220h160v-160H400v160ZM180-400h160v-160H180v160Zm440 0h160v-160H620v160ZM180-180h160v-160H180v160Zm440 0h160v-160H620v160Z\"/>\n",
              "  </svg>\n",
              "    </button>\n",
              "\n",
              "  <style>\n",
              "    .colab-df-container {\n",
              "      display:flex;\n",
              "      gap: 12px;\n",
              "    }\n",
              "\n",
              "    .colab-df-convert {\n",
              "      background-color: #E8F0FE;\n",
              "      border: none;\n",
              "      border-radius: 50%;\n",
              "      cursor: pointer;\n",
              "      display: none;\n",
              "      fill: #1967D2;\n",
              "      height: 32px;\n",
              "      padding: 0 0 0 0;\n",
              "      width: 32px;\n",
              "    }\n",
              "\n",
              "    .colab-df-convert:hover {\n",
              "      background-color: #E2EBFA;\n",
              "      box-shadow: 0px 1px 2px rgba(60, 64, 67, 0.3), 0px 1px 3px 1px rgba(60, 64, 67, 0.15);\n",
              "      fill: #174EA6;\n",
              "    }\n",
              "\n",
              "    .colab-df-buttons div {\n",
              "      margin-bottom: 4px;\n",
              "    }\n",
              "\n",
              "    [theme=dark] .colab-df-convert {\n",
              "      background-color: #3B4455;\n",
              "      fill: #D2E3FC;\n",
              "    }\n",
              "\n",
              "    [theme=dark] .colab-df-convert:hover {\n",
              "      background-color: #434B5C;\n",
              "      box-shadow: 0px 1px 3px 1px rgba(0, 0, 0, 0.15);\n",
              "      filter: drop-shadow(0px 1px 2px rgba(0, 0, 0, 0.3));\n",
              "      fill: #FFFFFF;\n",
              "    }\n",
              "  </style>\n",
              "\n",
              "    <script>\n",
              "      const buttonEl =\n",
              "        document.querySelector('#df-0082789d-68cc-418d-aa3a-a1c4edf91278 button.colab-df-convert');\n",
              "      buttonEl.style.display =\n",
              "        google.colab.kernel.accessAllowed ? 'block' : 'none';\n",
              "\n",
              "      async function convertToInteractive(key) {\n",
              "        const element = document.querySelector('#df-0082789d-68cc-418d-aa3a-a1c4edf91278');\n",
              "        const dataTable =\n",
              "          await google.colab.kernel.invokeFunction('convertToInteractive',\n",
              "                                                    [key], {});\n",
              "        if (!dataTable) return;\n",
              "\n",
              "        const docLinkHtml = 'Like what you see? Visit the ' +\n",
              "          '<a target=\"_blank\" href=https://colab.research.google.com/notebooks/data_table.ipynb>data table notebook</a>'\n",
              "          + ' to learn more about interactive tables.';\n",
              "        element.innerHTML = '';\n",
              "        dataTable['output_type'] = 'display_data';\n",
              "        await google.colab.output.renderOutput(dataTable, element);\n",
              "        const docLink = document.createElement('div');\n",
              "        docLink.innerHTML = docLinkHtml;\n",
              "        element.appendChild(docLink);\n",
              "      }\n",
              "    </script>\n",
              "  </div>\n",
              "\n",
              "\n",
              "    <div id=\"df-64de4a60-94e1-4cc3-997e-c863c524b73b\">\n",
              "      <button class=\"colab-df-quickchart\" onclick=\"quickchart('df-64de4a60-94e1-4cc3-997e-c863c524b73b')\"\n",
              "                title=\"Suggest charts\"\n",
              "                style=\"display:none;\">\n",
              "\n",
              "<svg xmlns=\"http://www.w3.org/2000/svg\" height=\"24px\"viewBox=\"0 0 24 24\"\n",
              "     width=\"24px\">\n",
              "    <g>\n",
              "        <path d=\"M19 3H5c-1.1 0-2 .9-2 2v14c0 1.1.9 2 2 2h14c1.1 0 2-.9 2-2V5c0-1.1-.9-2-2-2zM9 17H7v-7h2v7zm4 0h-2V7h2v10zm4 0h-2v-4h2v4z\"/>\n",
              "    </g>\n",
              "</svg>\n",
              "      </button>\n",
              "\n",
              "<style>\n",
              "  .colab-df-quickchart {\n",
              "      --bg-color: #E8F0FE;\n",
              "      --fill-color: #1967D2;\n",
              "      --hover-bg-color: #E2EBFA;\n",
              "      --hover-fill-color: #174EA6;\n",
              "      --disabled-fill-color: #AAA;\n",
              "      --disabled-bg-color: #DDD;\n",
              "  }\n",
              "\n",
              "  [theme=dark] .colab-df-quickchart {\n",
              "      --bg-color: #3B4455;\n",
              "      --fill-color: #D2E3FC;\n",
              "      --hover-bg-color: #434B5C;\n",
              "      --hover-fill-color: #FFFFFF;\n",
              "      --disabled-bg-color: #3B4455;\n",
              "      --disabled-fill-color: #666;\n",
              "  }\n",
              "\n",
              "  .colab-df-quickchart {\n",
              "    background-color: var(--bg-color);\n",
              "    border: none;\n",
              "    border-radius: 50%;\n",
              "    cursor: pointer;\n",
              "    display: none;\n",
              "    fill: var(--fill-color);\n",
              "    height: 32px;\n",
              "    padding: 0;\n",
              "    width: 32px;\n",
              "  }\n",
              "\n",
              "  .colab-df-quickchart:hover {\n",
              "    background-color: var(--hover-bg-color);\n",
              "    box-shadow: 0 1px 2px rgba(60, 64, 67, 0.3), 0 1px 3px 1px rgba(60, 64, 67, 0.15);\n",
              "    fill: var(--button-hover-fill-color);\n",
              "  }\n",
              "\n",
              "  .colab-df-quickchart-complete:disabled,\n",
              "  .colab-df-quickchart-complete:disabled:hover {\n",
              "    background-color: var(--disabled-bg-color);\n",
              "    fill: var(--disabled-fill-color);\n",
              "    box-shadow: none;\n",
              "  }\n",
              "\n",
              "  .colab-df-spinner {\n",
              "    border: 2px solid var(--fill-color);\n",
              "    border-color: transparent;\n",
              "    border-bottom-color: var(--fill-color);\n",
              "    animation:\n",
              "      spin 1s steps(1) infinite;\n",
              "  }\n",
              "\n",
              "  @keyframes spin {\n",
              "    0% {\n",
              "      border-color: transparent;\n",
              "      border-bottom-color: var(--fill-color);\n",
              "      border-left-color: var(--fill-color);\n",
              "    }\n",
              "    20% {\n",
              "      border-color: transparent;\n",
              "      border-left-color: var(--fill-color);\n",
              "      border-top-color: var(--fill-color);\n",
              "    }\n",
              "    30% {\n",
              "      border-color: transparent;\n",
              "      border-left-color: var(--fill-color);\n",
              "      border-top-color: var(--fill-color);\n",
              "      border-right-color: var(--fill-color);\n",
              "    }\n",
              "    40% {\n",
              "      border-color: transparent;\n",
              "      border-right-color: var(--fill-color);\n",
              "      border-top-color: var(--fill-color);\n",
              "    }\n",
              "    60% {\n",
              "      border-color: transparent;\n",
              "      border-right-color: var(--fill-color);\n",
              "    }\n",
              "    80% {\n",
              "      border-color: transparent;\n",
              "      border-right-color: var(--fill-color);\n",
              "      border-bottom-color: var(--fill-color);\n",
              "    }\n",
              "    90% {\n",
              "      border-color: transparent;\n",
              "      border-bottom-color: var(--fill-color);\n",
              "    }\n",
              "  }\n",
              "</style>\n",
              "\n",
              "      <script>\n",
              "        async function quickchart(key) {\n",
              "          const quickchartButtonEl =\n",
              "            document.querySelector('#' + key + ' button');\n",
              "          quickchartButtonEl.disabled = true;  // To prevent multiple clicks.\n",
              "          quickchartButtonEl.classList.add('colab-df-spinner');\n",
              "          try {\n",
              "            const charts = await google.colab.kernel.invokeFunction(\n",
              "                'suggestCharts', [key], {});\n",
              "          } catch (error) {\n",
              "            console.error('Error during call to suggestCharts:', error);\n",
              "          }\n",
              "          quickchartButtonEl.classList.remove('colab-df-spinner');\n",
              "          quickchartButtonEl.classList.add('colab-df-quickchart-complete');\n",
              "        }\n",
              "        (() => {\n",
              "          let quickchartButtonEl =\n",
              "            document.querySelector('#df-64de4a60-94e1-4cc3-997e-c863c524b73b button');\n",
              "          quickchartButtonEl.style.display =\n",
              "            google.colab.kernel.accessAllowed ? 'block' : 'none';\n",
              "        })();\n",
              "      </script>\n",
              "    </div>\n",
              "\n",
              "    </div>\n",
              "  </div>\n"
            ],
            "application/vnd.google.colaboratory.intrinsic+json": {
              "type": "dataframe",
              "summary": "{\n  \"name\": \"df\",\n  \"rows\": 8,\n  \"fields\": [\n    {\n      \"column\": \"Slot Number\",\n      \"properties\": {\n        \"dtype\": \"number\",\n        \"std\": 62607.48741892831,\n        \"min\": 1.0,\n        \"max\": 177600.0,\n        \"num_unique_values\": 7,\n        \"samples\": [\n          177600.0,\n          555.5,\n          833.0\n        ],\n        \"semantic_type\": \"\",\n        \"description\": \"\"\n      }\n    },\n    {\n      \"column\": \"Latitude\",\n      \"properties\": {\n        \"dtype\": \"number\",\n        \"std\": 62778.73657373795,\n        \"min\": 0.0005131963851116935,\n        \"max\": 177600.0,\n        \"num_unique_values\": 8,\n        \"samples\": [\n          40.74377229729729,\n          40.74387,\n          177600.0\n        ],\n        \"semantic_type\": \"\",\n        \"description\": \"\"\n      }\n    },\n    {\n      \"column\": \"Longitude\",\n      \"properties\": {\n        \"dtype\": \"number\",\n        \"std\": 62813.555027111695,\n        \"min\": -74.1572,\n        \"max\": 177600.0,\n        \"num_unique_values\": 8,\n        \"samples\": [\n          -74.140565,\n          -74.14056500000001,\n          177600.0\n        ],\n        \"semantic_type\": \"\",\n        \"description\": \"\"\n      }\n    },\n    {\n      \"column\": \"Slot Length\",\n      \"properties\": {\n        \"dtype\": \"number\",\n        \"std\": 62788.051809241544,\n        \"min\": 0.0,\n        \"max\": 177600.0,\n        \"num_unique_values\": 3,\n        \"samples\": [\n          177600.0,\n          10.0,\n          0.0\n        ],\n        \"semantic_type\": \"\",\n        \"description\": \"\"\n      }\n    },\n    {\n      \"column\": \"Negative\",\n      \"properties\": {\n        \"dtype\": \"number\",\n        \"std\": 62785.433793334574,\n        \"min\": 2.0,\n        \"max\": 177600.0,\n        \"num_unique_values\": 7,\n        \"samples\": [\n          177600.0,\n          15.108108108108109,\n          15.0\n        ],\n        \"semantic_type\": \"\",\n        \"description\": \"\"\n      }\n    },\n    {\n      \"column\": \"Neutral\",\n      \"properties\": {\n        \"dtype\": \"number\",\n        \"std\": 62786.55555009449,\n        \"min\": 4.0,\n        \"max\": 177600.0,\n        \"num_unique_values\": 7,\n        \"samples\": [\n          177600.0,\n          12.378378378378379,\n          14.0\n        ],\n        \"semantic_type\": \"\",\n        \"description\": \"\"\n      }\n    },\n    {\n      \"column\": \"Positive\",\n      \"properties\": {\n        \"dtype\": \"number\",\n        \"std\": 62760.88859138906,\n        \"min\": 32.055081141556855,\n        \"max\": 177600.0,\n        \"num_unique_values\": 8,\n        \"samples\": [\n          90.009009009009,\n          86.0,\n          177600.0\n        ],\n        \"semantic_type\": \"\",\n        \"description\": \"\"\n      }\n    },\n    {\n      \"column\": \"Rating\",\n      \"properties\": {\n        \"dtype\": \"number\",\n        \"std\": 62790.00762898714,\n        \"min\": 0.8246096672334255,\n        \"max\": 177600.0,\n        \"num_unique_values\": 7,\n        \"samples\": [\n          177600.0,\n          3.4504504504504503,\n          4.0\n        ],\n        \"semantic_type\": \"\",\n        \"description\": \"\"\n      }\n    }\n  ]\n}"
            }
          },
          "metadata": {},
          "execution_count": 5
        }
      ]
    },
    {
      "cell_type": "markdown",
      "source": [
        "**Data Type Correction**"
      ],
      "metadata": {
        "id": "bFlRUloIqCN-"
      }
    },
    {
      "cell_type": "code",
      "source": [
        "# Step 1: Fix Timing Column\n",
        "def convert_time_to_hour(x):\n",
        "    if pd.isna(x):\n",
        "        return np.nan\n",
        "    try:\n",
        "        return pd.to_datetime(x, format='%I:%M %p').hour\n",
        "    except:\n",
        "        return np.nan\n",
        "\n",
        "# Apply function\n",
        "df['Timing'] = df['Timing'].apply(convert_time_to_hour)\n",
        "\n",
        "# Fill missing values safely (no inplace warning)\n",
        "df['Timing'] = df['Timing'].fillna(8)\n",
        "\n",
        "# Force correct types\n",
        "df['Slot Number'] = df['Slot Number'].astype(int)\n",
        "df['Timing'] = df['Timing'].astype(int)\n",
        "df['Paid/Free'] = df['Paid/Free'].apply(lambda x: 1 if str(x).lower() == 'f' else 0)\n",
        "df['Filled/Empty'] = df['Filled/Empty'].apply(lambda x: 1 if str(x).lower() == 'e' else 0)\n"
      ],
      "metadata": {
        "id": "9gAhnVPcqz5c"
      },
      "execution_count": null,
      "outputs": []
    },
    {
      "cell_type": "code",
      "source": [
        "\n",
        "\n",
        "# Convert Day and Street Name to Category\n",
        "df['Day'] = df['Day'].astype('category')\n",
        "df['Street Name'] = df['Street Name'].astype('category')\n",
        "df['Zone ID'] = df['Zone ID'].astype('category')"
      ],
      "metadata": {
        "id": "5IbQzC-6ot5w"
      },
      "execution_count": null,
      "outputs": []
    },
    {
      "cell_type": "code",
      "source": [
        "# Step 7: Quick Info Check\n",
        "print(\"\\n✅ Final Data Info After Cleaning and Type Correction:\")\n",
        "print(df.info())"
      ],
      "metadata": {
        "colab": {
          "base_uri": "https://localhost:8080/"
        },
        "id": "Ehn_TWUmot2a",
        "outputId": "31cf200a-3677-4269-cc99-4e20bf5ebcff"
      },
      "execution_count": null,
      "outputs": [
        {
          "output_type": "stream",
          "name": "stdout",
          "text": [
            "\n",
            "✅ Final Data Info After Cleaning and Type Correction:\n",
            "<class 'pandas.core.frame.DataFrame'>\n",
            "RangeIndex: 177600 entries, 0 to 177599\n",
            "Data columns (total 21 columns):\n",
            " #   Column                   Non-Null Count   Dtype   \n",
            "---  ------                   --------------   -----   \n",
            " 0   Slot Number              177600 non-null  int64   \n",
            " 1   Date                     177600 non-null  object  \n",
            " 2   Timing                   177600 non-null  int64   \n",
            " 3   Day                      177600 non-null  category\n",
            " 4   Street Name              177600 non-null  category\n",
            " 5   Zone ID                  177600 non-null  category\n",
            " 6   Latitude                 177600 non-null  float64 \n",
            " 7   Longitude                177600 non-null  float64 \n",
            " 8   Slot Length              177600 non-null  int64   \n",
            " 9   Paid/Free                177600 non-null  int64   \n",
            " 10  Filled/Empty             177600 non-null  int64   \n",
            " 11  pf_color                 177600 non-null  object  \n",
            " 12  ef_color                 177600 non-null  object  \n",
            " 13  Status                   177600 non-null  object  \n",
            " 14  Paid End Time            177600 non-null  object  \n",
            " 15  Street Cleaning Days     177600 non-null  object  \n",
            " 16  Street Cleaning Timings  177600 non-null  object  \n",
            " 17  Negative                 177600 non-null  int64   \n",
            " 18  Neutral                  177600 non-null  int64   \n",
            " 19  Positive                 177600 non-null  int64   \n",
            " 20  Rating                   177600 non-null  int64   \n",
            "dtypes: category(3), float64(2), int64(9), object(7)\n",
            "memory usage: 24.9+ MB\n",
            "None\n"
          ]
        }
      ]
    },
    {
      "cell_type": "code",
      "source": [
        "\n",
        "# Step 8: Save intermediate cleaned file (optional)\n",
        "df.to_csv('phase1_cleaned_dataset.csv', index=False)\n",
        "print(\"\\n✅ Phase 1 dataset saved as 'phase1_cleaned_dataset.csv'\")\n"
      ],
      "metadata": {
        "colab": {
          "base_uri": "https://localhost:8080/"
        },
        "id": "5FcptabTotvf",
        "outputId": "1add65c2-5f32-430f-8707-101b3e482409"
      },
      "execution_count": null,
      "outputs": [
        {
          "output_type": "stream",
          "name": "stdout",
          "text": [
            "\n",
            "✅ Phase 1 dataset saved as 'phase1_cleaned_dataset.csv'\n"
          ]
        }
      ]
    },
    {
      "cell_type": "code",
      "execution_count": null,
      "metadata": {
        "colab": {
          "base_uri": "https://localhost:8080/",
          "height": 17
        },
        "id": "qWwkHTcsA7_X",
        "outputId": "15031525-8e1a-4745-e246-af7ca07ea4e3"
      },
      "outputs": [
        {
          "output_type": "display_data",
          "data": {
            "text/plain": [
              "<IPython.core.display.Javascript object>"
            ],
            "application/javascript": [
              "\n",
              "    async function download(id, filename, size) {\n",
              "      if (!google.colab.kernel.accessAllowed) {\n",
              "        return;\n",
              "      }\n",
              "      const div = document.createElement('div');\n",
              "      const label = document.createElement('label');\n",
              "      label.textContent = `Downloading \"${filename}\": `;\n",
              "      div.appendChild(label);\n",
              "      const progress = document.createElement('progress');\n",
              "      progress.max = size;\n",
              "      div.appendChild(progress);\n",
              "      document.body.appendChild(div);\n",
              "\n",
              "      const buffers = [];\n",
              "      let downloaded = 0;\n",
              "\n",
              "      const channel = await google.colab.kernel.comms.open(id);\n",
              "      // Send a message to notify the kernel that we're ready.\n",
              "      channel.send({})\n",
              "\n",
              "      for await (const message of channel.messages) {\n",
              "        // Send a message to notify the kernel that we're ready.\n",
              "        channel.send({})\n",
              "        if (message.buffers) {\n",
              "          for (const buffer of message.buffers) {\n",
              "            buffers.push(buffer);\n",
              "            downloaded += buffer.byteLength;\n",
              "            progress.value = downloaded;\n",
              "          }\n",
              "        }\n",
              "      }\n",
              "      const blob = new Blob(buffers, {type: 'application/binary'});\n",
              "      const a = document.createElement('a');\n",
              "      a.href = window.URL.createObjectURL(blob);\n",
              "      a.download = filename;\n",
              "      div.appendChild(a);\n",
              "      a.click();\n",
              "      div.remove();\n",
              "    }\n",
              "  "
            ]
          },
          "metadata": {}
        },
        {
          "output_type": "display_data",
          "data": {
            "text/plain": [
              "<IPython.core.display.Javascript object>"
            ],
            "application/javascript": [
              "download(\"download_b669e487-dac8-4d87-892b-213a7a94a836\", \"phase1_cleaned_dataset.csv\", 22804105)"
            ]
          },
          "metadata": {}
        }
      ],
      "source": [
        "\n",
        "from google.colab import files\n",
        "files.download('phase1_cleaned_dataset.csv')\n",
        "\n",
        "\n",
        "\n",
        "\n",
        "\n",
        "\n",
        "\n",
        "\n"
      ]
    },
    {
      "cell_type": "code",
      "source": [
        "\n",
        "# Step 2: Load the cleaned dataset\n",
        "df2 = pd.read_csv('/content/phase1_cleaned_dataset.csv')"
      ],
      "metadata": {
        "id": "7AoLg5eJs-5E"
      },
      "execution_count": null,
      "outputs": []
    },
    {
      "cell_type": "markdown",
      "source": [],
      "metadata": {
        "id": "HHgOhL7l6WuC"
      }
    },
    {
      "cell_type": "code",
      "source": [
        "# Step 3: Encode Paid/Free\n",
        "# (Already converted to 0/1 in Phase 1, but double-check)\n",
        "print(\"\\nUnique values in Paid/Free before encoding:\", df2['Paid/Free'].unique())\n"
      ],
      "metadata": {
        "colab": {
          "base_uri": "https://localhost:8080/"
        },
        "id": "T0x66JkRtNyn",
        "outputId": "16273344-b240-4057-d10c-f3a472cb03a9"
      },
      "execution_count": null,
      "outputs": [
        {
          "output_type": "stream",
          "name": "stdout",
          "text": [
            "\n",
            "Unique values in Paid/Free before encoding: [1 0]\n"
          ]
        }
      ]
    },
    {
      "cell_type": "code",
      "source": [
        "# No change needed if already 0/1, otherwise do:\n",
        "df2['Paid/Free'] = df2['Paid/Free'].apply(lambda x: 1 if str(x).lower() == 'f' else 0)  # Safety check\n"
      ],
      "metadata": {
        "id": "trfDAipZtR24"
      },
      "execution_count": null,
      "outputs": []
    },
    {
      "cell_type": "code",
      "source": [
        "# Example: Create columns like day_Mon, day_Tue, etc.\n",
        "day_dummies = pd.get_dummies(df2['Day'], prefix='day')"
      ],
      "metadata": {
        "id": "o0u-1P0JtVSF"
      },
      "execution_count": null,
      "outputs": []
    },
    {
      "cell_type": "code",
      "source": [
        "# Merge back into original dataframe\n",
        "df2 = pd.concat([df2.drop('Day', axis=1), day_dummies], axis=1)"
      ],
      "metadata": {
        "id": "9w9klrfwtYdb"
      },
      "execution_count": null,
      "outputs": []
    },
    {
      "cell_type": "code",
      "source": [
        "# Assign a number to each street\n",
        "street_mapping = {street: idx for idx, street in enumerate(df2['Street Name'].unique())}\n",
        "df2['Street Name'] = df2['Street Name'].map(street_mapping)\n",
        "\n",
        "print(\"✅ Street names label encoded successfully!\")"
      ],
      "metadata": {
        "colab": {
          "base_uri": "https://localhost:8080/"
        },
        "id": "fcK5ipX1tbe6",
        "outputId": "08ce2134-803a-4b1a-df55-1a5c82fb6dea"
      },
      "execution_count": null,
      "outputs": [
        {
          "output_type": "stream",
          "name": "stdout",
          "text": [
            "✅ Street names label encoded successfully!\n"
          ]
        }
      ]
    },
    {
      "cell_type": "code",
      "source": [
        "# Expand 'Street Cleaning Days' column into multiple columns\n",
        "def create_cleaning_columns(df2):\n",
        "    days = ['Mon', 'Tue', 'Wed', 'Thu', 'Fri']\n",
        "    for day in days:\n",
        "        df2[f'cleaning_{day.lower()}'] = df2['Street Cleaning Days'].apply(lambda x: 1 if day in str(x) else 0)\n",
        "    return df2\n",
        "\n",
        "df2 = create_cleaning_columns(df2)"
      ],
      "metadata": {
        "id": "h4pseeLItgUZ"
      },
      "execution_count": null,
      "outputs": []
    },
    {
      "cell_type": "code",
      "source": [
        "\n",
        "# Drop the original combined cleaning days column\n",
        "df2.drop('Street Cleaning Days', axis=1, inplace=True)\n",
        "\n",
        "print(\"✅ Cleaning days expanded into separate columns successfully!\")"
      ],
      "metadata": {
        "colab": {
          "base_uri": "https://localhost:8080/"
        },
        "id": "vi7CiD2btlp7",
        "outputId": "2a53cddc-2138-4641-fe92-d5604c00d771"
      },
      "execution_count": null,
      "outputs": [
        {
          "output_type": "stream",
          "name": "stdout",
          "text": [
            "✅ Cleaning days expanded into separate columns successfully!\n"
          ]
        }
      ]
    },
    {
      "cell_type": "markdown",
      "source": [
        "Target_fe = 1 means the parking slot is Empty (available to park).\n",
        "\n",
        "Target_fe = 0 means the parking slot is Filled (not available)."
      ],
      "metadata": {
        "id": "Smw2-DPhwJ5s"
      }
    },
    {
      "cell_type": "code",
      "source": [
        "# Step 4: Rename Filled/Empty → Available\n",
        "df2.rename(columns={'Filled/Empty': 'Target_fe'}, inplace=True)"
      ],
      "metadata": {
        "id": "HsQyrKkrviOB"
      },
      "execution_count": null,
      "outputs": []
    },
    {
      "cell_type": "code",
      "source": [
        "def split_cleaning_times(time_range):\n",
        "    if pd.isna(time_range):\n",
        "        return pd.Series([np.nan, np.nan])\n",
        "    try:\n",
        "        start, end = time_range.split('-')\n",
        "        start_hour = pd.to_datetime(start.strip(), format='%I%p').hour\n",
        "        end_hour = pd.to_datetime(end.strip(), format='%I%p').hour\n",
        "        return pd.Series([start_hour, end_hour])\n",
        "    except:\n",
        "        return pd.Series([np.nan, np.nan])\n",
        "\n",
        "df2[['cleaning_start_hour', 'cleaning_end_hour']] = df2['Street Cleaning Timings'].apply(split_cleaning_times)\n",
        "df2.drop('Street Cleaning Timings', axis=1, inplace=True)\n"
      ],
      "metadata": {
        "id": "3xUlTwxlwgxY"
      },
      "execution_count": null,
      "outputs": []
    },
    {
      "cell_type": "code",
      "source": [
        "# Step 8: Final Dataset Check\n",
        "print(\"\\n✅ Final columns after Phase 2 encoding:\")\n",
        "print(df2.columns)\n",
        "print(df2.head())"
      ],
      "metadata": {
        "colab": {
          "base_uri": "https://localhost:8080/"
        },
        "id": "bq_cS4JRtpFe",
        "outputId": "95783e0f-5fca-4d3b-b085-aeaafa7a51e9"
      },
      "execution_count": null,
      "outputs": [
        {
          "output_type": "stream",
          "name": "stdout",
          "text": [
            "\n",
            "✅ Final columns after Phase 2 encoding:\n",
            "Index(['Slot Number', 'Date', 'Timing', 'Street Name', 'Zone ID', 'Latitude',\n",
            "       'Longitude', 'Slot Length', 'Paid/Free', 'Target_fe', 'pf_color',\n",
            "       'ef_color', 'Status', 'Paid End Time', 'Negative', 'Neutral',\n",
            "       'Positive', 'Rating', 'day_Friday', 'day_Monday', 'day_Saturday',\n",
            "       'day_Sunday', 'day_Thursday', 'day_Tuesday', 'day_Wednesday',\n",
            "       'cleaning_mon', 'cleaning_tue', 'cleaning_wed', 'cleaning_thu',\n",
            "       'cleaning_fri', 'cleaning_start_hour', 'cleaning_end_hour'],\n",
            "      dtype='object')\n",
            "   Slot Number        Date  Timing  Street Name Zone ID  Latitude  Longitude  \\\n",
            "0            1  01-04-2025       8            0     Z01   40.7445   -74.1572   \n",
            "1            1  01-04-2025       9            0     Z01   40.7445   -74.1572   \n",
            "2            1  01-04-2025      10            0     Z01   40.7445   -74.1572   \n",
            "3            1  01-04-2025      11            0     Z01   40.7445   -74.1572   \n",
            "4            1  01-04-2025      12            0     Z01   40.7445   -74.1572   \n",
            "\n",
            "   Slot Length  Paid/Free  Target_fe  ... day_Thursday day_Tuesday  \\\n",
            "0           10          0          0  ...        False        True   \n",
            "1           10          0          0  ...        False        True   \n",
            "2           10          0          0  ...        False        True   \n",
            "3           10          0          1  ...        False        True   \n",
            "4           10          0          1  ...        False        True   \n",
            "\n",
            "  day_Wednesday cleaning_mon  cleaning_tue  cleaning_wed  cleaning_thu  \\\n",
            "0         False            0             1             0             0   \n",
            "1         False            0             1             0             0   \n",
            "2         False            0             1             0             0   \n",
            "3         False            0             1             0             0   \n",
            "4         False            0             1             0             0   \n",
            "\n",
            "   cleaning_fri  cleaning_start_hour  cleaning_end_hour  \n",
            "0             1                   13                 15  \n",
            "1             1                   13                 15  \n",
            "2             1                   13                 15  \n",
            "3             1                   13                 15  \n",
            "4             1                   13                 15  \n",
            "\n",
            "[5 rows x 32 columns]\n"
          ]
        }
      ]
    },
    {
      "cell_type": "code",
      "source": [
        "# Step 9: Save Phase 2 Dataset\n",
        "df2.to_csv('phase2_dataset.csv', index=False)\n",
        "print(\"\\n✅ Phase 2 dataset saved as 'phase2_dataset.csv'\")"
      ],
      "metadata": {
        "colab": {
          "base_uri": "https://localhost:8080/"
        },
        "id": "reCPSp_Zt2iO",
        "outputId": "57d315ac-7de0-46c5-fc1e-e253a7ef470c"
      },
      "execution_count": null,
      "outputs": [
        {
          "output_type": "stream",
          "name": "stdout",
          "text": [
            "\n",
            "✅ Phase 2 dataset saved as 'phase2_dataset.csv'\n"
          ]
        }
      ]
    },
    {
      "cell_type": "code",
      "source": [
        "from google.colab import files\n",
        "files.download('phase2_dataset.csv')\n",
        "\n"
      ],
      "metadata": {
        "colab": {
          "base_uri": "https://localhost:8080/",
          "height": 17
        },
        "id": "X5HQP3P2t7TG",
        "outputId": "547d9759-7daa-4c58-9bfc-bb08b6491a2e"
      },
      "execution_count": null,
      "outputs": [
        {
          "output_type": "display_data",
          "data": {
            "text/plain": [
              "<IPython.core.display.Javascript object>"
            ],
            "application/javascript": [
              "\n",
              "    async function download(id, filename, size) {\n",
              "      if (!google.colab.kernel.accessAllowed) {\n",
              "        return;\n",
              "      }\n",
              "      const div = document.createElement('div');\n",
              "      const label = document.createElement('label');\n",
              "      label.textContent = `Downloading \"${filename}\": `;\n",
              "      div.appendChild(label);\n",
              "      const progress = document.createElement('progress');\n",
              "      progress.max = size;\n",
              "      div.appendChild(progress);\n",
              "      document.body.appendChild(div);\n",
              "\n",
              "      const buffers = [];\n",
              "      let downloaded = 0;\n",
              "\n",
              "      const channel = await google.colab.kernel.comms.open(id);\n",
              "      // Send a message to notify the kernel that we're ready.\n",
              "      channel.send({})\n",
              "\n",
              "      for await (const message of channel.messages) {\n",
              "        // Send a message to notify the kernel that we're ready.\n",
              "        channel.send({})\n",
              "        if (message.buffers) {\n",
              "          for (const buffer of message.buffers) {\n",
              "            buffers.push(buffer);\n",
              "            downloaded += buffer.byteLength;\n",
              "            progress.value = downloaded;\n",
              "          }\n",
              "        }\n",
              "      }\n",
              "      const blob = new Blob(buffers, {type: 'application/binary'});\n",
              "      const a = document.createElement('a');\n",
              "      a.href = window.URL.createObjectURL(blob);\n",
              "      a.download = filename;\n",
              "      div.appendChild(a);\n",
              "      a.click();\n",
              "      div.remove();\n",
              "    }\n",
              "  "
            ]
          },
          "metadata": {}
        },
        {
          "output_type": "display_data",
          "data": {
            "text/plain": [
              "<IPython.core.display.Javascript object>"
            ],
            "application/javascript": [
              "download(\"download_c63ab7f4-9582-4c5a-af19-8187a3bfbb50\", \"phase2_dataset.csv\", 25982001)"
            ]
          },
          "metadata": {}
        }
      ]
    },
    {
      "cell_type": "code",
      "source": [
        "# Part 1: Import libraries\n",
        "import pandas as pd\n",
        "import numpy as np\n",
        "import matplotlib.pyplot as plt\n",
        "import seaborn as sns\n",
        "\n",
        "\n"
      ],
      "metadata": {
        "id": "PissgD9oADll"
      },
      "execution_count": null,
      "outputs": []
    },
    {
      "cell_type": "code",
      "source": [
        "# Load your Phase 2 dataset into df3\n",
        "df3 = pd.read_csv('//content/phase2_clearset.csv')\n",
        "\n",
        "print(\"✅ Phase 2 dataset loaded into df3 successfully!\")"
      ],
      "metadata": {
        "colab": {
          "base_uri": "https://localhost:8080/"
        },
        "id": "N8sM1b4aADiH",
        "outputId": "5f63888c-660b-481a-e699-16e56bdd5858"
      },
      "execution_count": null,
      "outputs": [
        {
          "output_type": "stream",
          "name": "stdout",
          "text": [
            "✅ Phase 2 dataset loaded into df3 successfully!\n"
          ]
        }
      ]
    },
    {
      "cell_type": "code",
      "source": [
        "# Part 2: Basic Info\n",
        "print(\"\\n✅ Basic Information about df3:\")\n",
        "print(df3.info())\n",
        "print(\"\\nDataset Shape:\", df3.shape)\n"
      ],
      "metadata": {
        "colab": {
          "base_uri": "https://localhost:8080/"
        },
        "id": "MVulr86hMLcG",
        "outputId": "30705f6b-3ef4-48bb-f60c-f814800ef2be"
      },
      "execution_count": null,
      "outputs": [
        {
          "output_type": "stream",
          "name": "stdout",
          "text": [
            "\n",
            "✅ Basic Information about df3:\n",
            "<class 'pandas.core.frame.DataFrame'>\n",
            "RangeIndex: 177600 entries, 0 to 177599\n",
            "Data columns (total 32 columns):\n",
            " #   Column               Non-Null Count   Dtype  \n",
            "---  ------               --------------   -----  \n",
            " 0   Slot Number          177600 non-null  int64  \n",
            " 1   Date                 177600 non-null  object \n",
            " 2   Timing               177600 non-null  int64  \n",
            " 3   Street Name          177600 non-null  object \n",
            " 4   Zone ID              177600 non-null  object \n",
            " 5   Latitude             177600 non-null  float64\n",
            " 6   Longitude            177600 non-null  float64\n",
            " 7   Slot Length          177600 non-null  int64  \n",
            " 8   Paid/Free            177600 non-null  int64  \n",
            " 9   Target_fe            177600 non-null  int64  \n",
            " 10  pf_color             177600 non-null  object \n",
            " 11  ef_color             177600 non-null  object \n",
            " 12  Status               177600 non-null  object \n",
            " 13  Paid End Time        177600 non-null  object \n",
            " 14  Negative             177600 non-null  int64  \n",
            " 15  Neutral              177600 non-null  int64  \n",
            " 16  Positive             177600 non-null  int64  \n",
            " 17  Rating               177600 non-null  int64  \n",
            " 18  day_Friday           177600 non-null  bool   \n",
            " 19  day_Monday           177600 non-null  bool   \n",
            " 20  day_Saturday         177600 non-null  bool   \n",
            " 21  day_Sunday           177600 non-null  bool   \n",
            " 22  day_Thursday         177600 non-null  bool   \n",
            " 23  day_Tuesday          177600 non-null  bool   \n",
            " 24  day_Wednesday        177600 non-null  bool   \n",
            " 25  cleaning_mon         177600 non-null  int64  \n",
            " 26  cleaning_tue         177600 non-null  int64  \n",
            " 27  cleaning_wed         177600 non-null  int64  \n",
            " 28  cleaning_thu         177600 non-null  int64  \n",
            " 29  cleaning_fri         177600 non-null  int64  \n",
            " 30  cleaning_start_hour  177600 non-null  int64  \n",
            " 31  cleaning_end_hour    177600 non-null  int64  \n",
            "dtypes: bool(7), float64(2), int64(16), object(7)\n",
            "memory usage: 35.1+ MB\n",
            "None\n",
            "\n",
            "Dataset Shape: (177600, 32)\n"
          ]
        }
      ]
    },
    {
      "cell_type": "code",
      "source": [
        "# Part 3: Checking Missing Values\n",
        "print(\"\\n✅ Checking for Missing Values in df3:\")\n",
        "print(df3.isnull().sum())\n"
      ],
      "metadata": {
        "colab": {
          "base_uri": "https://localhost:8080/"
        },
        "id": "gA0ckt80ADbs",
        "outputId": "68242932-bf02-444b-8411-b52c012a9073"
      },
      "execution_count": null,
      "outputs": [
        {
          "output_type": "stream",
          "name": "stdout",
          "text": [
            "\n",
            "✅ Checking for Missing Values in df3:\n",
            "Slot Number            0\n",
            "Date                   0\n",
            "Timing                 0\n",
            "Street Name            0\n",
            "Zone ID                0\n",
            "Latitude               0\n",
            "Longitude              0\n",
            "Slot Length            0\n",
            "Paid/Free              0\n",
            "Target_fe              0\n",
            "pf_color               0\n",
            "ef_color               0\n",
            "Status                 0\n",
            "Paid End Time          0\n",
            "Negative               0\n",
            "Neutral                0\n",
            "Positive               0\n",
            "Rating                 0\n",
            "day_Friday             0\n",
            "day_Monday             0\n",
            "day_Saturday           0\n",
            "day_Sunday             0\n",
            "day_Thursday           0\n",
            "day_Tuesday            0\n",
            "day_Wednesday          0\n",
            "cleaning_mon           0\n",
            "cleaning_tue           0\n",
            "cleaning_wed           0\n",
            "cleaning_thu           0\n",
            "cleaning_fri           0\n",
            "cleaning_start_hour    0\n",
            "cleaning_end_hour      0\n",
            "dtype: int64\n"
          ]
        }
      ]
    },
    {
      "cell_type": "code",
      "source": [
        "# Part 4: Histograms of Important Columns\n",
        "numeric_columns = ['Timing', 'Slot Length', 'Paid/Free', 'Available', 'rating']\n",
        "\n",
        "for col in numeric_columns:\n",
        "    if col in df3.columns:\n",
        "        plt.figure(figsize=(8, 5))\n",
        "        plt.hist(df3[col], bins=30, edgecolor='black')\n",
        "        plt.title(f\"Histogram of {col}\")\n",
        "        plt.xlabel(col)\n",
        "        plt.ylabel('Frequency')\n",
        "        plt.grid(True)\n",
        "        plt.show()\n",
        "\n"
      ],
      "metadata": {
        "colab": {
          "base_uri": "https://localhost:8080/",
          "height": 1000
        },
        "id": "kgRLSHDgADY5",
        "outputId": "e96a4520-52ce-4147-a6c6-b019533c850a"
      },
      "execution_count": null,
      "outputs": [
        {
          "output_type": "display_data",
          "data": {
            "text/plain": [
              "<Figure size 800x500 with 1 Axes>"
            ],
            "image/png": "[encoded data removed]"
          },
          "metadata": {}
        },
        {
          "output_type": "display_data",
          "data": {
            "text/plain": [
              "<Figure size 800x500 with 1 Axes>"
            ],
            "image/png": "[encoded data removed]"
          },
          "metadata": {}
        },
        {
          "output_type": "display_data",
          "data": {
            "text/plain": [
              "<Figure size 800x500 with 1 Axes>"
            ],
            "image/png": "[encoded data removed]"
          },
          "metadata": {}
        }
      ]
    },
    {
      "cell_type": "code",
      "source": [
        "# Part 5: Barplots\n",
        "\n",
        "# Paid/Free\n",
        "if 'Paid/Free' in df3.columns:\n",
        "    plt.figure(figsize=(6,4))\n",
        "    sns.countplot(data=df3, x='Paid/Free')\n",
        "    plt.title('Count of Paid vs Free Parking Slots')\n",
        "    plt.xlabel('Paid (0) or Free (1)')\n",
        "    plt.ylabel('Count')\n",
        "    plt.grid(True)\n",
        "    plt.show()\n",
        "\n",
        "\n",
        "\n"
      ],
      "metadata": {
        "colab": {
          "base_uri": "https://localhost:8080/",
          "height": 410
        },
        "id": "NZpcZ_ZZADVz",
        "outputId": "385e9bdf-1998-4028-82e1-697de63f69fd"
      },
      "execution_count": null,
      "outputs": [
        {
          "output_type": "display_data",
          "data": {
            "text/plain": [
              "<Figure size 600x400 with 1 Axes>"
            ],
            "image/png": "[encoded data removed]"
          },
          "metadata": {}
        }
      ]
    },
    {
      "cell_type": "code",
      "source": [
        "# Available\n",
        "if 'Target_fe' in df3.columns:\n",
        "    plt.figure(figsize=(6,4))\n",
        "    sns.countplot(data=df3, x='Target_fe')\n",
        "    plt.title('Count of Available (Empty) vs Filled Slots')\n",
        "    plt.xlabel('Available (1 = Empty, 0 = Filled)')\n",
        "    plt.ylabel('Count')\n",
        "    plt.grid(True)\n",
        "    plt.show()"
      ],
      "metadata": {
        "colab": {
          "base_uri": "https://localhost:8080/",
          "height": 410
        },
        "id": "pXprJn28MhX4",
        "outputId": "46eb5757-a854-40bc-d18c-710fbf1b1d53"
      },
      "execution_count": null,
      "outputs": [
        {
          "output_type": "display_data",
          "data": {
            "text/plain": [
              "<Figure size 600x400 with 1 Axes>"
            ],
            "image/png": "[encoded data removed]"
          },
          "metadata": {}
        }
      ]
    },
    {
      "cell_type": "code",
      "source": [
        "import pandas as pd\n",
        "import numpy as np\n",
        "import matplotlib.pyplot as plt\n",
        "import seaborn as sns\n",
        "\n",
        "\n"
      ],
      "metadata": {
        "id": "qtbGDTnkTkkC"
      },
      "execution_count": null,
      "outputs": []
    },
    {
      "cell_type": "code",
      "source": [
        "important_cols = ['Timing', 'Slot Length', 'Latitude', 'Longitude',\n",
        "                  'cleaning_start_hour', 'cleaning_end_hour', 'rating']\n"
      ],
      "metadata": {
        "id": "p-TFlCHlTnjt"
      },
      "execution_count": null,
      "outputs": []
    },
    {
      "cell_type": "code",
      "source": [
        "# Boxplots to see distribution and detect visual outliers\n",
        "for col in important_cols:\n",
        "    if col in df3.columns:\n",
        "        plt.figure(figsize=(8, 5))\n",
        "        sns.boxplot(x=df3[col])\n",
        "        plt.title(f\"Boxplot for {col}\")\n",
        "        plt.grid(True)\n",
        "        plt.show()\n"
      ],
      "metadata": {
        "colab": {
          "base_uri": "https://localhost:8080/",
          "height": 1000
        },
        "id": "VTFWoaplTpNE",
        "outputId": "34fb9e91-3cba-4152-b14d-ca9e04d1a537"
      },
      "execution_count": null,
      "outputs": [
        {
          "output_type": "display_data",
          "data": {
            "text/plain": [
              "<Figure size 800x500 with 1 Axes>"
            ],
            "image/png": "[encoded data removed]"
          },
          "metadata": {}
        },
        {
          "output_type": "display_data",
          "data": {
            "text/plain": [
              "<Figure size 800x500 with 1 Axes>"
            ],
            "image/png": "[encoded data removed]"
          },
          "metadata": {}
        },
        {
          "output_type": "display_data",
          "data": {
            "text/plain": [
              "<Figure size 800x500 with 1 Axes>"
            ],
            "image/png": "[encoded data removed]"
          },
          "metadata": {}
        },
        {
          "output_type": "display_data",
          "data": {
            "text/plain": [
              "<Figure size 800x500 with 1 Axes>"
            ],
            "image/png": "[encoded data removed]"
          },
          "metadata": {}
        },
        {
          "output_type": "display_data",
          "data": {
            "text/plain": [
              "<Figure size 800x500 with 1 Axes>"
            ],
            "image/png": "[encoded data removed]"
          },
          "metadata": {}
        },
        {
          "output_type": "display_data",
          "data": {
            "text/plain": [
              "<Figure size 800x500 with 1 Axes>"
            ],
            "image/png": "[encoded data removed]"
          },
          "metadata": {}
        }
      ]
    },
    {
      "cell_type": "code",
      "source": [
        "# Function to detect outliers using IQR Method\n",
        "def detect_outliers_iqr(data, col):\n",
        "    Q1 = data[col].quantile(0.25)\n",
        "    Q3 = data[col].quantile(0.75)\n",
        "    IQR = Q3 - Q1\n",
        "    lower_bound = Q1 - 1.5 * IQR\n",
        "    upper_bound = Q3 + 1.5 * IQR\n",
        "    outliers = data[(data[col] < lower_bound) | (data[col] > upper_bound)]\n",
        "    return outliers\n",
        "\n",
        "# Detect outliers for each important column\n",
        "for col in important_cols:\n",
        "    if col in df3.columns:\n",
        "        outliers = detect_outliers_iqr(df3, col)\n",
        "        print(f\"\\n✅ {col}: {len(outliers)} outliers detected\")\n"
      ],
      "metadata": {
        "colab": {
          "base_uri": "https://localhost:8080/"
        },
        "id": "XLltir3-Tqyb",
        "outputId": "ff469f64-da70-488c-f6eb-648f672c0c90"
      },
      "execution_count": null,
      "outputs": [
        {
          "output_type": "stream",
          "name": "stdout",
          "text": [
            "\n",
            "✅ Timing: 0 outliers detected\n",
            "\n",
            "✅ Slot Length: 0 outliers detected\n",
            "\n",
            "✅ Latitude: 3040 outliers detected\n",
            "\n",
            "✅ Longitude: 0 outliers detected\n",
            "\n",
            "✅ cleaning_start_hour: 0 outliers detected\n",
            "\n",
            "✅ cleaning_end_hour: 0 outliers detected\n"
          ]
        }
      ]
    },
    {
      "cell_type": "code",
      "source": [
        "# Step 1: Select only Numeric Features (Skip text or one-hot columns for now)\n",
        "numeric_features = df3.select_dtypes(include=[np.number])\n",
        "\n",
        "# Step 2: Calculate Correlation Matrix\n",
        "correlation_matrix = numeric_features.corr()\n",
        "\n",
        "# Step 3: Plot the Correlation Heatmap\n",
        "plt.figure(figsize=(14,12))\n",
        "sns.heatmap(correlation_matrix, annot=True, cmap='coolwarm', fmt=\".2f\", linewidths=0.5)\n",
        "plt.title('Correlation Matrix of Numeric Features')\n",
        "plt.show()\n",
        "\n",
        "print(\"\\n✅ Correlation Heatmap Plotted Successfully!\")\n"
      ],
      "metadata": {
        "colab": {
          "base_uri": "https://localhost:8080/",
          "height": 661
        },
        "id": "yWlXWlcoUFAA",
        "outputId": "cfde759c-b96f-4af0-e9a5-0261cba5931c"
      },
      "execution_count": null,
      "outputs": [
        {
          "output_type": "display_data",
          "data": {
            "text/plain": [
              "<Figure size 1400x1200 with 2 Axes>"
            ],
            "image/png": "[encoded data removed]"
          },
          "metadata": {}
        },
        {
          "output_type": "stream",
          "name": "stdout",
          "text": [
            "\n",
            "✅ Correlation Heatmap Plotted Successfully!\n"
          ]
        }
      ]
    },
    {
      "cell_type": "markdown",
      "source": [
        "#Feature enginerring"
      ],
      "metadata": {
        "id": "9TcbRPHIYwmm"
      }
    },
    {
      "cell_type": "markdown",
      "source": [
        "**Creating Peak Hour Feature**"
      ],
      "metadata": {
        "id": "gbm8GG_6Y2ZS"
      }
    },
    {
      "cell_type": "code",
      "source": [
        "# Step 1: Define a function to label Peak Hours\n",
        "def is_peak_hour(hour):\n",
        "    if (7 <= hour <= 10) or (17 <= hour <= 20):  # Morning 7-10 AM and Evening 5-8 PM\n",
        "        return 1  # Peak Hour\n",
        "    else:\n",
        "        return 0  # Non-Peak Hour\n",
        "\n",
        "# Step 2: Apply the function to your Timing column\n",
        "df3['peak_hour'] = df3['Timing'].apply(is_peak_hour)\n",
        "\n",
        "# Step 3: Quick Check\n",
        "print(df3[['Timing', 'peak_hour']].head(15))\n"
      ],
      "metadata": {
        "colab": {
          "base_uri": "https://localhost:8080/"
        },
        "id": "k8-35AASYvz7",
        "outputId": "afca9480-e010-4884-dd67-2c79a76d7666"
      },
      "execution_count": null,
      "outputs": [
        {
          "output_type": "stream",
          "name": "stdout",
          "text": [
            "    Timing  peak_hour\n",
            "0        8          1\n",
            "1        8          1\n",
            "2        8          1\n",
            "3        8          1\n",
            "4        8          1\n",
            "5        8          1\n",
            "6        8          1\n",
            "7        8          1\n",
            "8        8          1\n",
            "9        8          1\n",
            "10       8          1\n",
            "11       8          1\n",
            "12       8          1\n",
            "13       8          1\n",
            "14       8          1\n"
          ]
        }
      ]
    },
    {
      "cell_type": "markdown",
      "source": [
        "**Creating Weekend Feature**"
      ],
      "metadata": {
        "id": "DMotLiZsZRpa"
      }
    },
    {
      "cell_type": "code",
      "source": [
        "# Step 1: Convert boolean True/False to integer 1/0\n",
        "df3['day_Saturday'] = df3['day_Saturday'].astype(int)\n",
        "df3['day_Sunday'] = df3['day_Sunday'].astype(int)\n",
        "\n",
        "# Step 2: Now safely create 'weekend' feature\n",
        "df3['weekend'] = df3[['day_Saturday', 'day_Sunday']].sum(axis=1)\n",
        "df3['weekend'] = df3['weekend'].apply(lambda x: 1 if x >= 1 else 0)\n",
        "\n",
        "# Step 3: Quick Check\n",
        "print(df3[['day_Saturday', 'day_Sunday', 'weekend']].head(15))\n"
      ],
      "metadata": {
        "colab": {
          "base_uri": "https://localhost:8080/"
        },
        "id": "_aS5rrbdbAu7",
        "outputId": "be088910-013d-4a60-f2ed-bb2c27aaf969"
      },
      "execution_count": null,
      "outputs": [
        {
          "output_type": "stream",
          "name": "stdout",
          "text": [
            "    day_Saturday  day_Sunday  weekend\n",
            "0              0           0        0\n",
            "1              0           0        0\n",
            "2              0           0        0\n",
            "3              0           0        0\n",
            "4              0           0        0\n",
            "5              0           0        0\n",
            "6              0           0        0\n",
            "7              0           0        0\n",
            "8              0           0        0\n",
            "9              0           0        0\n",
            "10             0           0        0\n",
            "11             0           0        0\n",
            "12             0           0        0\n",
            "13             0           0        0\n",
            "14             0           0        0\n"
          ]
        }
      ]
    },
    {
      "cell_type": "markdown",
      "source": [],
      "metadata": {
        "id": "g80Q-kQf8idq"
      }
    },
    {
      "cell_type": "markdown",
      "source": [
        "**Creating RATING Feature for streets**"
      ],
      "metadata": {
        "id": "m-AmNCu7c1XV"
      }
    },
    {
      "cell_type": "code",
      "source": [
        "# Step 1: Group by Street Name and count number of slots\n",
        "street_counts = df3['Street Name'].value_counts()\n",
        "\n",
        "# Step 2: Create a mapping based on street_counts\n",
        "def assign_popularity(street):\n",
        "    count = street_counts.get(street, 0)\n",
        "    if count >= 500:  # You can adjust these thresholds based on your data\n",
        "        return 2  # Highly Popular\n",
        "    elif count >= 200:\n",
        "        return 1  # Moderately Popular\n",
        "    else:\n",
        "        return 0  # Less Popular\n",
        "\n",
        "# Step 3: Apply mapping to create new 'street_popularity' feature\n",
        "df3['street_popularity'] = df3['Street Name'].apply(assign_popularity)\n",
        "\n",
        "# Step 4: Quick Check\n",
        "print(df3[['Street Name', 'street_popularity']].head(20))\n"
      ],
      "metadata": {
        "colab": {
          "base_uri": "https://localhost:8080/"
        },
        "id": "u6Zj828-c0o7",
        "outputId": "d67581d1-a21a-4a00-c06c-083ec9f68c1b"
      },
      "execution_count": null,
      "outputs": [
        {
          "output_type": "stream",
          "name": "stdout",
          "text": [
            "      Street Name  street_popularity\n",
            "0   Hiram PI Left                  2\n",
            "1   Hiram PI Left                  2\n",
            "2   Hiram PI Left                  2\n",
            "3   Hiram PI Left                  2\n",
            "4   Hiram PI Left                  2\n",
            "5   Hiram PI Left                  2\n",
            "6   Hiram PI Left                  2\n",
            "7   Hiram PI Left                  2\n",
            "8   Hiram PI Left                  2\n",
            "9   Hiram PI Left                  2\n",
            "10  Hiram PI Left                  2\n",
            "11  Hiram PI Left                  2\n",
            "12  Hiram PI Left                  2\n",
            "13  Hiram PI Left                  2\n",
            "14  Hiram PI Left                  2\n",
            "15  Hiram PI Left                  2\n",
            "16  Hiram PI Left                  2\n",
            "17  Hiram PI Left                  2\n",
            "18  Hiram PI Left                  2\n",
            "19  Hiram PI Left                  2\n"
          ]
        }
      ]
    },
    {
      "cell_type": "markdown",
      "source": [
        "**Creating Cleaning Risk Feature**"
      ],
      "metadata": {
        "id": "WdswPWgVdj_g"
      }
    },
    {
      "cell_type": "code",
      "source": [
        "# Step 1: Define a function to check cleaning risk\n",
        "def check_cleaning_risk(row):\n",
        "    if (\n",
        "        (row['day_Monday'] == 1 and row['cleaning_mon'] == 1) or\n",
        "        (row['day_Tuesday'] == 1 and row['cleaning_tue'] == 1) or\n",
        "        (row['day_Wednesday'] == 1 and row['cleaning_wed'] == 1) or\n",
        "        (row['day_Thursday'] == 1 and row['cleaning_thu'] == 1) or\n",
        "        (row['day_Friday'] == 1 and row['cleaning_fri'] == 1)\n",
        "    ):\n",
        "        return 1  # Cleaning happening today\n",
        "    else:\n",
        "        return 0  # No cleaning today\n",
        "\n",
        "# Step 2: Apply function row-wise\n",
        "df3['cleaning_risk'] = df3.apply(check_cleaning_risk, axis=1)\n",
        "\n",
        "# Step 3: Quick Check\n",
        "print(df3[['day_Monday', 'day_Tuesday', 'day_Wednesday', 'day_Thursday', 'day_Friday',\n",
        "           'cleaning_mon', 'cleaning_tue', 'cleaning_wed', 'cleaning_thu', 'cleaning_fri',\n",
        "           'cleaning_risk']].head(15))\n"
      ],
      "metadata": {
        "colab": {
          "base_uri": "https://localhost:8080/"
        },
        "id": "YogUx-lLdi7r",
        "outputId": "f0c372b8-4cbd-440c-9424-74b17046a534"
      },
      "execution_count": null,
      "outputs": [
        {
          "output_type": "stream",
          "name": "stdout",
          "text": [
            "    day_Monday  day_Tuesday  day_Wednesday  day_Thursday  day_Friday  \\\n",
            "0        False         True          False         False       False   \n",
            "1        False         True          False         False       False   \n",
            "2        False         True          False         False       False   \n",
            "3        False         True          False         False       False   \n",
            "4        False         True          False         False       False   \n",
            "5        False         True          False         False       False   \n",
            "6        False         True          False         False       False   \n",
            "7        False         True          False         False       False   \n",
            "8        False         True          False         False       False   \n",
            "9        False         True          False         False       False   \n",
            "10       False         True          False         False       False   \n",
            "11       False         True          False         False       False   \n",
            "12       False         True          False         False       False   \n",
            "13       False         True          False         False       False   \n",
            "14       False         True          False         False       False   \n",
            "\n",
            "    cleaning_mon  cleaning_tue  cleaning_wed  cleaning_thu  cleaning_fri  \\\n",
            "0              0             1             0             0             1   \n",
            "1              0             1             0             0             1   \n",
            "2              0             1             0             0             1   \n",
            "3              0             1             0             0             1   \n",
            "4              0             1             0             0             1   \n",
            "5              0             1             0             0             1   \n",
            "6              0             1             0             0             1   \n",
            "7              0             1             0             0             1   \n",
            "8              0             1             0             0             1   \n",
            "9              0             1             0             0             1   \n",
            "10             0             1             0             0             1   \n",
            "11             0             1             0             0             1   \n",
            "12             0             1             0             0             1   \n",
            "13             0             1             0             0             1   \n",
            "14             0             1             0             0             1   \n",
            "\n",
            "    cleaning_risk  \n",
            "0               1  \n",
            "1               1  \n",
            "2               1  \n",
            "3               1  \n",
            "4               1  \n",
            "5               1  \n",
            "6               1  \n",
            "7               1  \n",
            "8               1  \n",
            "9               1  \n",
            "10              1  \n",
            "11              1  \n",
            "12              1  \n",
            "13              1  \n",
            "14              1  \n"
          ]
        }
      ]
    },
    {
      "cell_type": "markdown",
      "source": [
        "** creating Safety Category Feature**"
      ],
      "metadata": {
        "id": "OkHnTd2Qeaj5"
      }
    },
    {
      "cell_type": "code",
      "source": [
        "# Step 1: Define your custom function for Safety Category\n",
        "def custom_classify_safety(rating):\n",
        "    if rating == 5:\n",
        "        return 5  # High Safety\n",
        "    elif rating == 4:\n",
        "        return 4  # Good Safety\n",
        "    elif rating == 3:\n",
        "        return 3  # Low Safety\n",
        "    elif rating <= 2:\n",
        "        return 1  # Risky Area\n",
        "    else:\n",
        "        return 0  # Unknown / Bad Data (Optional case)\n",
        "\n",
        "# Step 2: Apply your function to 'Rating' column\n",
        "df3['safety_category'] = df3['Rating'].apply(custom_classify_safety)\n",
        "\n",
        "# Step 3: Quick Check\n",
        "print(df3[['Rating', 'safety_category']].head(15))\n"
      ],
      "metadata": {
        "colab": {
          "base_uri": "https://localhost:8080/"
        },
        "id": "WJfSHFSaghR5",
        "outputId": "082f039a-be30-467c-a914-2bfdb7f7488c"
      },
      "execution_count": null,
      "outputs": [
        {
          "output_type": "stream",
          "name": "stdout",
          "text": [
            "    Rating  safety_category\n",
            "0        5                5\n",
            "1        5                5\n",
            "2        5                5\n",
            "3        5                5\n",
            "4        5                5\n",
            "5        5                5\n",
            "6        5                5\n",
            "7        5                5\n",
            "8        5                5\n",
            "9        5                5\n",
            "10       5                5\n",
            "11       5                5\n",
            "12       5                5\n",
            "13       5                5\n",
            "14       5                5\n"
          ]
        }
      ]
    },
    {
      "cell_type": "code",
      "source": [
        "# Step 1: Save the full df3 (which has original + new features)\n",
        "df3.to_csv('phase4_final_full_dataset.csv', index=False)\n",
        "\n",
        "print(\"✅ Full dataset with all original + new features saved as 'phase4_final_full_dataset.csv'!\")\n",
        "print(\"✅ Total Columns Now:\", df3.columns.tolist())\n",
        "print(df3.head(10))  # Quick preview\n"
      ],
      "metadata": {
        "colab": {
          "base_uri": "https://localhost:8080/"
        },
        "id": "3LSLC2__huiJ",
        "outputId": "c793424a-f7b1-4b8b-d113-84c37c813a6f"
      },
      "execution_count": null,
      "outputs": [
        {
          "output_type": "stream",
          "name": "stdout",
          "text": [
            "✅ Full dataset with all original + new features saved as 'phase4_final_full_dataset.csv'!\n",
            "✅ Total Columns Now: ['Slot Number', 'Date', 'Timing', 'Street Name', 'Zone ID', 'Latitude', 'Longitude', 'Slot Length', 'Paid/Free', 'Target_fe', 'pf_color', 'ef_color', 'Status', 'Paid End Time', 'Negative', 'Neutral', 'Positive', 'Rating', 'day_Friday', 'day_Monday', 'day_Saturday', 'day_Sunday', 'day_Thursday', 'day_Tuesday', 'day_Wednesday', 'cleaning_mon', 'cleaning_tue', 'cleaning_wed', 'cleaning_thu', 'cleaning_fri', 'cleaning_start_hour', 'cleaning_end_hour', 'peak_hour', 'weekend', 'street_popularity', 'cleaning_risk', 'safety_category']\n",
            "   Slot Number        Date  Timing    Street Name Zone ID  Latitude  \\\n",
            "0            1  01-04-2025       8  Hiram PI Left     Z01   40.7445   \n",
            "1            1  01-04-2025       8  Hiram PI Left     Z01   40.7445   \n",
            "2            1  01-04-2025       8  Hiram PI Left     Z01   40.7445   \n",
            "3            1  01-04-2025       8  Hiram PI Left     Z01   40.7445   \n",
            "4            1  01-04-2025       8  Hiram PI Left     Z01   40.7445   \n",
            "5            1  01-04-2025       8  Hiram PI Left     Z01   40.7445   \n",
            "6            1  01-04-2025       8  Hiram PI Left     Z01   40.7445   \n",
            "7            1  01-04-2025       8  Hiram PI Left     Z01   40.7445   \n",
            "8            1  01-04-2025       8  Hiram PI Left     Z01   40.7445   \n",
            "9            1  01-04-2025       8  Hiram PI Left     Z01   40.7445   \n",
            "\n",
            "   Longitude  Slot Length  Paid/Free  Target_fe  ... cleaning_wed  \\\n",
            "0   -74.1572           10          1          0  ...            0   \n",
            "1   -74.1572           10          1          0  ...            0   \n",
            "2   -74.1572           10          1          0  ...            0   \n",
            "3   -74.1572           10          1          1  ...            0   \n",
            "4   -74.1572           10          1          1  ...            0   \n",
            "5   -74.1572           10          1          1  ...            0   \n",
            "6   -74.1572           10          1          0  ...            0   \n",
            "7   -74.1572           10          1          1  ...            0   \n",
            "8   -74.1572           10          0          0  ...            0   \n",
            "9   -74.1572           10          1          0  ...            0   \n",
            "\n",
            "  cleaning_thu cleaning_fri cleaning_start_hour  cleaning_end_hour  peak_hour  \\\n",
            "0            0            1                  13                 15          1   \n",
            "1            0            1                  13                 15          1   \n",
            "2            0            1                  13                 15          1   \n",
            "3            0            1                  13                 15          1   \n",
            "4            0            1                  13                 15          1   \n",
            "5            0            1                  13                 15          1   \n",
            "6            0            1                  13                 15          1   \n",
            "7            0            1                  13                 15          1   \n",
            "8            0            1                  13                 15          1   \n",
            "9            0            1                  13                 15          1   \n",
            "\n",
            "   weekend  street_popularity  cleaning_risk  safety_category  \n",
            "0        0                  2              1                5  \n",
            "1        0                  2              1                5  \n",
            "2        0                  2              1                5  \n",
            "3        0                  2              1                5  \n",
            "4        0                  2              1                5  \n",
            "5        0                  2              1                5  \n",
            "6        0                  2              1                5  \n",
            "7        0                  2              1                5  \n",
            "8        0                  2              1                5  \n",
            "9        0                  2              1                5  \n",
            "\n",
            "[10 rows x 37 columns]\n"
          ]
        }
      ]
    },
    {
      "cell_type": "code",
      "source": [
        "# Step 2: Download the file (Colab Method)\n",
        "from google.colab import files\n",
        "files.download('phase4_final_full_dataset.csv')"
      ],
      "metadata": {
        "colab": {
          "base_uri": "https://localhost:8080/",
          "height": 17
        },
        "id": "gEYouErNhxKa",
        "outputId": "24fee778-7e01-4088-fe5a-880b123e5775"
      },
      "execution_count": null,
      "outputs": [
        {
          "output_type": "display_data",
          "data": {
            "text/plain": [
              "<IPython.core.display.Javascript object>"
            ],
            "application/javascript": [
              "\n",
              "    async function download(id, filename, size) {\n",
              "      if (!google.colab.kernel.accessAllowed) {\n",
              "        return;\n",
              "      }\n",
              "      const div = document.createElement('div');\n",
              "      const label = document.createElement('label');\n",
              "      label.textContent = `Downloading \"${filename}\": `;\n",
              "      div.appendChild(label);\n",
              "      const progress = document.createElement('progress');\n",
              "      progress.max = size;\n",
              "      div.appendChild(progress);\n",
              "      document.body.appendChild(div);\n",
              "\n",
              "      const buffers = [];\n",
              "      let downloaded = 0;\n",
              "\n",
              "      const channel = await google.colab.kernel.comms.open(id);\n",
              "      // Send a message to notify the kernel that we're ready.\n",
              "      channel.send({})\n",
              "\n",
              "      for await (const message of channel.messages) {\n",
              "        // Send a message to notify the kernel that we're ready.\n",
              "        channel.send({})\n",
              "        if (message.buffers) {\n",
              "          for (const buffer of message.buffers) {\n",
              "            buffers.push(buffer);\n",
              "            downloaded += buffer.byteLength;\n",
              "            progress.value = downloaded;\n",
              "          }\n",
              "        }\n",
              "      }\n",
              "      const blob = new Blob(buffers, {type: 'application/binary'});\n",
              "      const a = document.createElement('a');\n",
              "      a.href = window.URL.createObjectURL(blob);\n",
              "      a.download = filename;\n",
              "      div.appendChild(a);\n",
              "      a.click();\n",
              "      div.remove();\n",
              "    }\n",
              "  "
            ]
          },
          "metadata": {}
        },
        {
          "output_type": "display_data",
          "data": {
            "text/plain": [
              "<IPython.core.display.Javascript object>"
            ],
            "application/javascript": [
              "download(\"download_6cfdd34f-1b1f-48c4-ba8c-7f0b65c2d55e\", \"phase4_final_full_dataset.csv\", 28672587)"
            ]
          },
          "metadata": {}
        }
      ]
    },
    {
      "cell_type": "markdown",
      "source": [
        "# **Choosing the Model**"
      ],
      "metadata": {
        "id": "F7B_pQFvmfmC"
      }
    },
    {
      "cell_type": "markdown",
      "source": [
        "\n",
        "\n",
        "**Random Forest Classifier**\tWorks very well on structured data (like tables)\n",
        "\n",
        "**Logistic Regression**\tGood for simple binary prediction (Available/Not Available)\n",
        "\n",
        "**Decision Tree Classifier**\tEasy to visualize and explain to customers\n",
        "\n",
        "**XGBoost Classifier**\t(optional, advanced) — Very powerful but needs tuning"
      ],
      "metadata": {
        "id": "jYr9LXHpmE7R"
      }
    },
    {
      "cell_type": "markdown",
      "source": [
        " For now, I'm choosing Random Forest Classifier first because:\n",
        "\n",
        "It is strong\n",
        "\n",
        "Handles noisy data\n",
        "\n",
        "Works well without much feature scaling\n",
        "\n",
        "Best for beginner-to-professional level"
      ],
      "metadata": {
        "id": "QHphnsooml5q"
      }
    },
    {
      "cell_type": "code",
      "source": [
        "# Step 1: Import necessary libraries\n",
        "from sklearn.model_selection import train_test_split\n",
        "from sklearn.ensemble import RandomForestClassifier"
      ],
      "metadata": {
        "id": "51ec5chorUJV"
      },
      "execution_count": null,
      "outputs": []
    },
    {
      "cell_type": "code",
      "source": [
        "\n",
        "df4= pd.read_csv('/content/phase4_final_full_dataset.csv')\n",
        "\n",
        "# Step 2: Encode Status into a new categorical column\n",
        "status_mapping = {\n",
        "    'Free_Empty': 0,\n",
        "    'Free_Filled': 1,\n",
        "    'Paid_Empty': 2,\n",
        "    'Paid_Filled': 3\n",
        "}\n",
        "df4['status_encoded'] = df4['Status'].map(status_mapping)"
      ],
      "metadata": {
        "id": "9RQBu4qmrUGF"
      },
      "execution_count": null,
      "outputs": []
    },
    {
      "cell_type": "code",
      "source": [
        "# Step 3: Define the final feature columns\n",
        "feature_columns = [\n",
        "    'Slot Number',       # Slot number\n",
        "    'Timing',            # Hour of the day\n",
        "    'Latitude',          # (Optional for location use)\n",
        "    'Longitude',         # (Optional for location use)\n",
        "    'Paid/Free',         # Paid or Free slot\n",
        "    'peak_hour',         # Peak hour effect\n",
        "    'weekend',           # Weekend effect\n",
        "    'street_popularity', # Popular street crowd effect\n",
        "    'cleaning_risk',     # Street cleaning days effect\n",
        "    'safety_category',   # Safety effect\n",
        "    'status_encoded'     # ✅ New smart feature based on Free/Paid and Filled/Empty\n",
        "]"
      ],
      "metadata": {
        "id": "HBp1FDOyrUDJ"
      },
      "execution_count": null,
      "outputs": []
    },
    {
      "cell_type": "code",
      "source": [
        "# Step 4: Separate Features and Target\n",
        "X = df4[feature_columns]\n",
        "y = df4['Target_fe']\n",
        "\n",
        "# Step 5: Split the data into training and testing sets\n",
        "X_train, X_test, y_train, y_test = train_test_split(\n",
        "    X, y, test_size=0.2, random_state=42\n",
        ")"
      ],
      "metadata": {
        "id": "MKqAbcfUrUAJ"
      },
      "execution_count": null,
      "outputs": []
    },
    {
      "cell_type": "code",
      "source": [
        "# Step 6: Quick Check\n",
        "print(\"✅ Feature Variables Selected: \", feature_columns)\n",
        "print(f\"✅ Training Set Size: {X_train.shape}\")\n",
        "print(f\"✅ Testing Set Size: {X_test.shape}\")\n"
      ],
      "metadata": {
        "colab": {
          "base_uri": "https://localhost:8080/"
        },
        "id": "ATXsAwd5rT3L",
        "outputId": "b2be6871-3155-4a9c-a8c3-17009b08e582"
      },
      "execution_count": null,
      "outputs": [
        {
          "output_type": "stream",
          "name": "stdout",
          "text": [
            "✅ Feature Variables Selected:  ['Slot Number', 'Timing', 'Latitude', 'Longitude', 'Paid/Free', 'peak_hour', 'weekend', 'street_popularity', 'cleaning_risk', 'safety_category', 'status_encoded']\n",
            "✅ Training Set Size: (142080, 11)\n",
            "✅ Testing Set Size: (35520, 11)\n"
          ]
        }
      ]
    },
    {
      "cell_type": "code",
      "source": [
        "# Step 1: Import Random Forest Classifier\n",
        "from sklearn.ensemble import RandomForestClassifier"
      ],
      "metadata": {
        "id": "vmdMUm9Xr5bE"
      },
      "execution_count": null,
      "outputs": []
    },
    {
      "cell_type": "code",
      "source": [
        "# Step 2: Create the Model\n",
        "rf_model = RandomForestClassifier(\n",
        "    n_estimators=100,      # Number of trees\n",
        "    random_state=42,       # For reproducibility\n",
        "    max_depth=10           # (optional) Limit depth to avoid overfitting\n",
        ")"
      ],
      "metadata": {
        "id": "1gcTC2JZr5TQ"
      },
      "execution_count": null,
      "outputs": []
    },
    {
      "cell_type": "code",
      "source": [
        "# Step 3: Train the Model on Training Data\n",
        "rf_model.fit(X_train, y_train)"
      ],
      "metadata": {
        "colab": {
          "base_uri": "https://localhost:8080/",
          "height": 80
        },
        "id": "j71u8gGWr5Pf",
        "outputId": "bc9103e4-fdf5-4b8e-9369-73d758de65ed"
      },
      "execution_count": null,
      "outputs": [
        {
          "output_type": "execute_result",
          "data": {
            "text/plain": [
              "RandomForestClassifier(max_depth=10, random_state=42)"
            ],
            "text/html": [
              "<style>#sk-container-id-1 {\n",
              "  /* Definition of color scheme common for light and dark mode */\n",
              "  --sklearn-color-text: #000;\n",
              "  --sklearn-color-text-muted: #666;\n",
              "  --sklearn-color-line: gray;\n",
              "  /* Definition of color scheme for unfitted estimators */\n",
              "  --sklearn-color-unfitted-level-0: #fff5e6;\n",
              "  --sklearn-color-unfitted-level-1: #f6e4d2;\n",
              "  --sklearn-color-unfitted-level-2: #ffe0b3;\n",
              "  --sklearn-color-unfitted-level-3: chocolate;\n",
              "  /* Definition of color scheme for fitted estimators */\n",
              "  --sklearn-color-fitted-level-0: #f0f8ff;\n",
              "  --sklearn-color-fitted-level-1: #d4ebff;\n",
              "  --sklearn-color-fitted-level-2: #b3dbfd;\n",
              "  --sklearn-color-fitted-level-3: cornflowerblue;\n",
              "\n",
              "  /* Specific color for light theme */\n",
              "  --sklearn-color-text-on-default-background: var(--sg-text-color, var(--theme-code-foreground, var(--jp-content-font-color1, black)));\n",
              "  --sklearn-color-background: var(--sg-background-color, var(--theme-background, var(--jp-layout-color0, white)));\n",
              "  --sklearn-color-border-box: var(--sg-text-color, var(--theme-code-foreground, var(--jp-content-font-color1, black)));\n",
              "  --sklearn-color-icon: #696969;\n",
              "\n",
              "  @media (prefers-color-scheme: dark) {\n",
              "    /* Redefinition of color scheme for dark theme */\n",
              "    --sklearn-color-text-on-default-background: var(--sg-text-color, var(--theme-code-foreground, var(--jp-content-font-color1, white)));\n",
              "    --sklearn-color-background: var(--sg-background-color, var(--theme-background, var(--jp-layout-color0, #111)));\n",
              "    --sklearn-color-border-box: var(--sg-text-color, var(--theme-code-foreground, var(--jp-content-font-color1, white)));\n",
              "    --sklearn-color-icon: #878787;\n",
              "  }\n",
              "}\n",
              "\n",
              "#sk-container-id-1 {\n",
              "  color: var(--sklearn-color-text);\n",
              "}\n",
              "\n",
              "#sk-container-id-1 pre {\n",
              "  padding: 0;\n",
              "}\n",
              "\n",
              "#sk-container-id-1 input.sk-hidden--visually {\n",
              "  border: 0;\n",
              "  clip: rect(1px 1px 1px 1px);\n",
              "  clip: rect(1px, 1px, 1px, 1px);\n",
              "  height: 1px;\n",
              "  margin: -1px;\n",
              "  overflow: hidden;\n",
              "  padding: 0;\n",
              "  position: absolute;\n",
              "  width: 1px;\n",
              "}\n",
              "\n",
              "#sk-container-id-1 div.sk-dashed-wrapped {\n",
              "  border: 1px dashed var(--sklearn-color-line);\n",
              "  margin: 0 0.4em 0.5em 0.4em;\n",
              "  box-sizing: border-box;\n",
              "  padding-bottom: 0.4em;\n",
              "  background-color: var(--sklearn-color-background);\n",
              "}\n",
              "\n",
              "#sk-container-id-1 div.sk-container {\n",
              "  /* jupyter's `normalize.less` sets `[hidden] { display: none; }`\n",
              "     but bootstrap.min.css set `[hidden] { display: none !important; }`\n",
              "     so we also need the `!important` here to be able to override the\n",
              "     default hidden behavior on the sphinx rendered scikit-learn.org.\n",
              "     See: https://github.com/scikit-learn/scikit-learn/issues/21755 */\n",
              "  display: inline-block !important;\n",
              "  position: relative;\n",
              "}\n",
              "\n",
              "#sk-container-id-1 div.sk-text-repr-fallback {\n",
              "  display: none;\n",
              "}\n",
              "\n",
              "div.sk-parallel-item,\n",
              "div.sk-serial,\n",
              "div.sk-item {\n",
              "  /* draw centered vertical line to link estimators */\n",
              "  background-image: linear-gradient(var(--sklearn-color-text-on-default-background), var(--sklearn-color-text-on-default-background));\n",
              "  background-size: 2px 100%;\n",
              "  background-repeat: no-repeat;\n",
              "  background-position: center center;\n",
              "}\n",
              "\n",
              "/* Parallel-specific style estimator block */\n",
              "\n",
              "#sk-container-id-1 div.sk-parallel-item::after {\n",
              "  content: \"\";\n",
              "  width: 100%;\n",
              "  border-bottom: 2px solid var(--sklearn-color-text-on-default-background);\n",
              "  flex-grow: 1;\n",
              "}\n",
              "\n",
              "#sk-container-id-1 div.sk-parallel {\n",
              "  display: flex;\n",
              "  align-items: stretch;\n",
              "  justify-content: center;\n",
              "  background-color: var(--sklearn-color-background);\n",
              "  position: relative;\n",
              "}\n",
              "\n",
              "#sk-container-id-1 div.sk-parallel-item {\n",
              "  display: flex;\n",
              "  flex-direction: column;\n",
              "}\n",
              "\n",
              "#sk-container-id-1 div.sk-parallel-item:first-child::after {\n",
              "  align-self: flex-end;\n",
              "  width: 50%;\n",
              "}\n",
              "\n",
              "#sk-container-id-1 div.sk-parallel-item:last-child::after {\n",
              "  align-self: flex-start;\n",
              "  width: 50%;\n",
              "}\n",
              "\n",
              "#sk-container-id-1 div.sk-parallel-item:only-child::after {\n",
              "  width: 0;\n",
              "}\n",
              "\n",
              "/* Serial-specific style estimator block */\n",
              "\n",
              "#sk-container-id-1 div.sk-serial {\n",
              "  display: flex;\n",
              "  flex-direction: column;\n",
              "  align-items: center;\n",
              "  background-color: var(--sklearn-color-background);\n",
              "  padding-right: 1em;\n",
              "  padding-left: 1em;\n",
              "}\n",
              "\n",
              "\n",
              "/* Toggleable style: style used for estimator/Pipeline/ColumnTransformer box that is\n",
              "clickable and can be expanded/collapsed.\n",
              "- Pipeline and ColumnTransformer use this feature and define the default style\n",
              "- Estimators will overwrite some part of the style using the `sk-estimator` class\n",
              "*/\n",
              "\n",
              "/* Pipeline and ColumnTransformer style (default) */\n",
              "\n",
              "#sk-container-id-1 div.sk-toggleable {\n",
              "  /* Default theme specific background. It is overwritten whether we have a\n",
              "  specific estimator or a Pipeline/ColumnTransformer */\n",
              "  background-color: var(--sklearn-color-background);\n",
              "}\n",
              "\n",
              "/* Toggleable label */\n",
              "#sk-container-id-1 label.sk-toggleable__label {\n",
              "  cursor: pointer;\n",
              "  display: flex;\n",
              "  width: 100%;\n",
              "  margin-bottom: 0;\n",
              "  padding: 0.5em;\n",
              "  box-sizing: border-box;\n",
              "  text-align: center;\n",
              "  align-items: start;\n",
              "  justify-content: space-between;\n",
              "  gap: 0.5em;\n",
              "}\n",
              "\n",
              "#sk-container-id-1 label.sk-toggleable__label .caption {\n",
              "  font-size: 0.6rem;\n",
              "  font-weight: lighter;\n",
              "  color: var(--sklearn-color-text-muted);\n",
              "}\n",
              "\n",
              "#sk-container-id-1 label.sk-toggleable__label-arrow:before {\n",
              "  /* Arrow on the left of the label */\n",
              "  content: \"▸\";\n",
              "  float: left;\n",
              "  margin-right: 0.25em;\n",
              "  color: var(--sklearn-color-icon);\n",
              "}\n",
              "\n",
              "#sk-container-id-1 label.sk-toggleable__label-arrow:hover:before {\n",
              "  color: var(--sklearn-color-text);\n",
              "}\n",
              "\n",
              "/* Toggleable content - dropdown */\n",
              "\n",
              "#sk-container-id-1 div.sk-toggleable__content {\n",
              "  max-height: 0;\n",
              "  max-width: 0;\n",
              "  overflow: hidden;\n",
              "  text-align: left;\n",
              "  /* unfitted */\n",
              "  background-color: var(--sklearn-color-unfitted-level-0);\n",
              "}\n",
              "\n",
              "#sk-container-id-1 div.sk-toggleable__content.fitted {\n",
              "  /* fitted */\n",
              "  background-color: var(--sklearn-color-fitted-level-0);\n",
              "}\n",
              "\n",
              "#sk-container-id-1 div.sk-toggleable__content pre {\n",
              "  margin: 0.2em;\n",
              "  border-radius: 0.25em;\n",
              "  color: var(--sklearn-color-text);\n",
              "  /* unfitted */\n",
              "  background-color: var(--sklearn-color-unfitted-level-0);\n",
              "}\n",
              "\n",
              "#sk-container-id-1 div.sk-toggleable__content.fitted pre {\n",
              "  /* unfitted */\n",
              "  background-color: var(--sklearn-color-fitted-level-0);\n",
              "}\n",
              "\n",
              "#sk-container-id-1 input.sk-toggleable__control:checked~div.sk-toggleable__content {\n",
              "  /* Expand drop-down */\n",
              "  max-height: 200px;\n",
              "  max-width: 100%;\n",
              "  overflow: auto;\n",
              "}\n",
              "\n",
              "#sk-container-id-1 input.sk-toggleable__control:checked~label.sk-toggleable__label-arrow:before {\n",
              "  content: \"▾\";\n",
              "}\n",
              "\n",
              "/* Pipeline/ColumnTransformer-specific style */\n",
              "\n",
              "#sk-container-id-1 div.sk-label input.sk-toggleable__control:checked~label.sk-toggleable__label {\n",
              "  color: var(--sklearn-color-text);\n",
              "  background-color: var(--sklearn-color-unfitted-level-2);\n",
              "}\n",
              "\n",
              "#sk-container-id-1 div.sk-label.fitted input.sk-toggleable__control:checked~label.sk-toggleable__label {\n",
              "  background-color: var(--sklearn-color-fitted-level-2);\n",
              "}\n",
              "\n",
              "/* Estimator-specific style */\n",
              "\n",
              "/* Colorize estimator box */\n",
              "#sk-container-id-1 div.sk-estimator input.sk-toggleable__control:checked~label.sk-toggleable__label {\n",
              "  /* unfitted */\n",
              "  background-color: var(--sklearn-color-unfitted-level-2);\n",
              "}\n",
              "\n",
              "#sk-container-id-1 div.sk-estimator.fitted input.sk-toggleable__control:checked~label.sk-toggleable__label {\n",
              "  /* fitted */\n",
              "  background-color: var(--sklearn-color-fitted-level-2);\n",
              "}\n",
              "\n",
              "#sk-container-id-1 div.sk-label label.sk-toggleable__label,\n",
              "#sk-container-id-1 div.sk-label label {\n",
              "  /* The background is the default theme color */\n",
              "  color: var(--sklearn-color-text-on-default-background);\n",
              "}\n",
              "\n",
              "/* On hover, darken the color of the background */\n",
              "#sk-container-id-1 div.sk-label:hover label.sk-toggleable__label {\n",
              "  color: var(--sklearn-color-text);\n",
              "  background-color: var(--sklearn-color-unfitted-level-2);\n",
              "}\n",
              "\n",
              "/* Label box, darken color on hover, fitted */\n",
              "#sk-container-id-1 div.sk-label.fitted:hover label.sk-toggleable__label.fitted {\n",
              "  color: var(--sklearn-color-text);\n",
              "  background-color: var(--sklearn-color-fitted-level-2);\n",
              "}\n",
              "\n",
              "/* Estimator label */\n",
              "\n",
              "#sk-container-id-1 div.sk-label label {\n",
              "  font-family: monospace;\n",
              "  font-weight: bold;\n",
              "  display: inline-block;\n",
              "  line-height: 1.2em;\n",
              "}\n",
              "\n",
              "#sk-container-id-1 div.sk-label-container {\n",
              "  text-align: center;\n",
              "}\n",
              "\n",
              "/* Estimator-specific */\n",
              "#sk-container-id-1 div.sk-estimator {\n",
              "  font-family: monospace;\n",
              "  border: 1px dotted var(--sklearn-color-border-box);\n",
              "  border-radius: 0.25em;\n",
              "  box-sizing: border-box;\n",
              "  margin-bottom: 0.5em;\n",
              "  /* unfitted */\n",
              "  background-color: var(--sklearn-color-unfitted-level-0);\n",
              "}\n",
              "\n",
              "#sk-container-id-1 div.sk-estimator.fitted {\n",
              "  /* fitted */\n",
              "  background-color: var(--sklearn-color-fitted-level-0);\n",
              "}\n",
              "\n",
              "/* on hover */\n",
              "#sk-container-id-1 div.sk-estimator:hover {\n",
              "  /* unfitted */\n",
              "  background-color: var(--sklearn-color-unfitted-level-2);\n",
              "}\n",
              "\n",
              "#sk-container-id-1 div.sk-estimator.fitted:hover {\n",
              "  /* fitted */\n",
              "  background-color: var(--sklearn-color-fitted-level-2);\n",
              "}\n",
              "\n",
              "/* Specification for estimator info (e.g. \"i\" and \"?\") */\n",
              "\n",
              "/* Common style for \"i\" and \"?\" */\n",
              "\n",
              ".sk-estimator-doc-link,\n",
              "a:link.sk-estimator-doc-link,\n",
              "a:visited.sk-estimator-doc-link {\n",
              "  float: right;\n",
              "  font-size: smaller;\n",
              "  line-height: 1em;\n",
              "  font-family: monospace;\n",
              "  background-color: var(--sklearn-color-background);\n",
              "  border-radius: 1em;\n",
              "  height: 1em;\n",
              "  width: 1em;\n",
              "  text-decoration: none !important;\n",
              "  margin-left: 0.5em;\n",
              "  text-align: center;\n",
              "  /* unfitted */\n",
              "  border: var(--sklearn-color-unfitted-level-1) 1pt solid;\n",
              "  color: var(--sklearn-color-unfitted-level-1);\n",
              "}\n",
              "\n",
              ".sk-estimator-doc-link.fitted,\n",
              "a:link.sk-estimator-doc-link.fitted,\n",
              "a:visited.sk-estimator-doc-link.fitted {\n",
              "  /* fitted */\n",
              "  border: var(--sklearn-color-fitted-level-1) 1pt solid;\n",
              "  color: var(--sklearn-color-fitted-level-1);\n",
              "}\n",
              "\n",
              "/* On hover */\n",
              "div.sk-estimator:hover .sk-estimator-doc-link:hover,\n",
              ".sk-estimator-doc-link:hover,\n",
              "div.sk-label-container:hover .sk-estimator-doc-link:hover,\n",
              ".sk-estimator-doc-link:hover {\n",
              "  /* unfitted */\n",
              "  background-color: var(--sklearn-color-unfitted-level-3);\n",
              "  color: var(--sklearn-color-background);\n",
              "  text-decoration: none;\n",
              "}\n",
              "\n",
              "div.sk-estimator.fitted:hover .sk-estimator-doc-link.fitted:hover,\n",
              ".sk-estimator-doc-link.fitted:hover,\n",
              "div.sk-label-container:hover .sk-estimator-doc-link.fitted:hover,\n",
              ".sk-estimator-doc-link.fitted:hover {\n",
              "  /* fitted */\n",
              "  background-color: var(--sklearn-color-fitted-level-3);\n",
              "  color: var(--sklearn-color-background);\n",
              "  text-decoration: none;\n",
              "}\n",
              "\n",
              "/* Span, style for the box shown on hovering the info icon */\n",
              ".sk-estimator-doc-link span {\n",
              "  display: none;\n",
              "  z-index: 9999;\n",
              "  position: relative;\n",
              "  font-weight: normal;\n",
              "  right: .2ex;\n",
              "  padding: .5ex;\n",
              "  margin: .5ex;\n",
              "  width: min-content;\n",
              "  min-width: 20ex;\n",
              "  max-width: 50ex;\n",
              "  color: var(--sklearn-color-text);\n",
              "  box-shadow: 2pt 2pt 4pt #999;\n",
              "  /* unfitted */\n",
              "  background: var(--sklearn-color-unfitted-level-0);\n",
              "  border: .5pt solid var(--sklearn-color-unfitted-level-3);\n",
              "}\n",
              "\n",
              ".sk-estimator-doc-link.fitted span {\n",
              "  /* fitted */\n",
              "  background: var(--sklearn-color-fitted-level-0);\n",
              "  border: var(--sklearn-color-fitted-level-3);\n",
              "}\n",
              "\n",
              ".sk-estimator-doc-link:hover span {\n",
              "  display: block;\n",
              "}\n",
              "\n",
              "/* \"?\"-specific style due to the `<a>` HTML tag */\n",
              "\n",
              "#sk-container-id-1 a.estimator_doc_link {\n",
              "  float: right;\n",
              "  font-size: 1rem;\n",
              "  line-height: 1em;\n",
              "  font-family: monospace;\n",
              "  background-color: var(--sklearn-color-background);\n",
              "  border-radius: 1rem;\n",
              "  height: 1rem;\n",
              "  width: 1rem;\n",
              "  text-decoration: none;\n",
              "  /* unfitted */\n",
              "  color: var(--sklearn-color-unfitted-level-1);\n",
              "  border: var(--sklearn-color-unfitted-level-1) 1pt solid;\n",
              "}\n",
              "\n",
              "#sk-container-id-1 a.estimator_doc_link.fitted {\n",
              "  /* fitted */\n",
              "  border: var(--sklearn-color-fitted-level-1) 1pt solid;\n",
              "  color: var(--sklearn-color-fitted-level-1);\n",
              "}\n",
              "\n",
              "/* On hover */\n",
              "#sk-container-id-1 a.estimator_doc_link:hover {\n",
              "  /* unfitted */\n",
              "  background-color: var(--sklearn-color-unfitted-level-3);\n",
              "  color: var(--sklearn-color-background);\n",
              "  text-decoration: none;\n",
              "}\n",
              "\n",
              "#sk-container-id-1 a.estimator_doc_link.fitted:hover {\n",
              "  /* fitted */\n",
              "  background-color: var(--sklearn-color-fitted-level-3);\n",
              "}\n",
              "</style><div id=\"sk-container-id-1\" class=\"sk-top-container\"><div class=\"sk-text-repr-fallback\"><pre>RandomForestClassifier(max_depth=10, random_state=42)</pre><b>In a Jupyter environment, please rerun this cell to show the HTML representation or trust the notebook. <br />On GitHub, the HTML representation is unable to render, please try loading this page with nbviewer.org.</b></div><div class=\"sk-container\" hidden><div class=\"sk-item\"><div class=\"sk-estimator fitted sk-toggleable\"><input class=\"sk-toggleable__control sk-hidden--visually\" id=\"sk-estimator-id-1\" type=\"checkbox\" checked><label for=\"sk-estimator-id-1\" class=\"sk-toggleable__label fitted sk-toggleable__label-arrow\"><div><div>RandomForestClassifier</div></div><div><a class=\"sk-estimator-doc-link fitted\" rel=\"noreferrer\" target=\"_blank\" href=\"https://scikit-learn.org/1.6/modules/generated/sklearn.ensemble.RandomForestClassifier.html\">?<span>Documentation for RandomForestClassifier</span></a><span class=\"sk-estimator-doc-link fitted\">i<span>Fitted</span></span></div></label><div class=\"sk-toggleable__content fitted\"><pre>RandomForestClassifier(max_depth=10, random_state=42)</pre></div> </div></div></div></div>"
            ]
          },
          "metadata": {},
          "execution_count": 50
        }
      ]
    },
    {
      "cell_type": "code",
      "source": [
        "# Step 4: Quick check\n",
        "print(\"✅ Random Forest Model Training Completed!\")\n"
      ],
      "metadata": {
        "colab": {
          "base_uri": "https://localhost:8080/"
        },
        "id": "rsZsX7KvrreP",
        "outputId": "e4507306-7124-4017-bbfa-3391eb7238c2"
      },
      "execution_count": null,
      "outputs": [
        {
          "output_type": "stream",
          "name": "stdout",
          "text": [
            "✅ Random Forest Model Training Completed!\n"
          ]
        }
      ]
    },
    {
      "cell_type": "code",
      "source": [
        "# Step 1: Import evaluation libraries\n",
        "from sklearn.metrics import accuracy_score, confusion_matrix, classification_report\n",
        "import matplotlib.pyplot as plt\n",
        "import seaborn as sns"
      ],
      "metadata": {
        "id": "IYFLGbULsZNx"
      },
      "execution_count": null,
      "outputs": []
    },
    {
      "cell_type": "code",
      "source": [
        "# Step 2: Predict on Test Set\n",
        "y_pred = rf_model.predict(X_test)"
      ],
      "metadata": {
        "id": "rvmwDgRasZ5z"
      },
      "execution_count": null,
      "outputs": []
    },
    {
      "cell_type": "code",
      "source": [
        "# Step 3: Calculate Accuracy\n",
        "accuracy = accuracy_score(y_test, y_pred)\n",
        "print(f\"✅ Model Accuracy on Test Set: {accuracy:.4f}\")"
      ],
      "metadata": {
        "colab": {
          "base_uri": "https://localhost:8080/"
        },
        "id": "fzuRZzRfsZ2W",
        "outputId": "8799d448-35f1-41fc-d575-12d0705d95fb"
      },
      "execution_count": null,
      "outputs": [
        {
          "output_type": "stream",
          "name": "stdout",
          "text": [
            "✅ Model Accuracy on Test Set: 1.0000\n"
          ]
        }
      ]
    },
    {
      "cell_type": "code",
      "source": [
        "# Step 4: Show Confusion Matrix\n",
        "cm = confusion_matrix(y_test, y_pred)\n",
        "\n",
        "plt.figure(figsize=(6, 5))\n",
        "sns.heatmap(cm, annot=True, fmt='d', cmap='Blues')\n",
        "plt.xlabel('Predicted')\n",
        "plt.ylabel('Actual')\n",
        "plt.title('Confusion Matrix')\n",
        "plt.show()"
      ],
      "metadata": {
        "colab": {
          "base_uri": "https://localhost:8080/",
          "height": 487
        },
        "id": "rp9l56oLsmrW",
        "outputId": "e4599aa0-1068-4250-e3b9-de2753f459a5"
      },
      "execution_count": null,
      "outputs": [
        {
          "output_type": "display_data",
          "data": {
            "text/plain": [
              "<Figure size 600x500 with 2 Axes>"
            ],
            "image/png": "[encoded data removed]"
          },
          "metadata": {}
        }
      ]
    },
    {
      "cell_type": "code",
      "source": [
        "# Step 5: Show Classification Report\n",
        "report = classification_report(y_test, y_pred)\n",
        "print(\"✅ Classification Report:\\n\", report)\n"
      ],
      "metadata": {
        "colab": {
          "base_uri": "https://localhost:8080/"
        },
        "id": "pgXZT9T7sZyr",
        "outputId": "0d698c47-c354-46a7-aeed-1e982eb20360"
      },
      "execution_count": null,
      "outputs": [
        {
          "output_type": "stream",
          "name": "stdout",
          "text": [
            "✅ Classification Report:\n",
            "               precision    recall  f1-score   support\n",
            "\n",
            "           0       1.00      1.00      1.00     17686\n",
            "           1       1.00      1.00      1.00     17834\n",
            "\n",
            "    accuracy                           1.00     35520\n",
            "   macro avg       1.00      1.00      1.00     35520\n",
            "weighted avg       1.00      1.00      1.00     35520\n",
            "\n"
          ]
        }
      ]
    },
    {
      "cell_type": "markdown",
      "source": [
        "Although the dataset had 177,600 rows, the parking slot behavior was highly rule-driven based on Paid/Free status, Timing, Street Cleaning, Peak hours, and Safety.\n",
        "Hence, the model achieved 100% accuracy under these clean conditions.\n",
        "In real-world noisier conditions, further testing and generalization would be needed"
      ],
      "metadata": {
        "id": "nZmz1p0-vfcd"
      }
    },
    {
      "cell_type": "markdown",
      "source": [
        "#Saving Model"
      ],
      "metadata": {
        "id": "aVJrITryv2ig"
      }
    },
    {
      "cell_type": "code",
      "source": [
        "# Step 1: Import pickle\n",
        "import pickle\n",
        "\n",
        "# Step 2: Save the model\n",
        "with open('rf_parking_model.pkl', 'wb') as file:\n",
        "    pickle.dump(rf_model, file)\n",
        "\n",
        "print(\"✅ Model saved successfully as 'rf_parking_model.pkl'!\")\n",
        "\n",
        "# Step 3: (Optional) Load and test\n",
        "with open('rf_parking_model.pkl', 'rb') as file:\n",
        "    loaded_model = pickle.load(file)\n",
        "\n",
        "# Quick Check if loading worked\n",
        "sample_prediction = loaded_model.predict(X_test[:5])\n",
        "print(\"✅ Sample Predictions after Loading:\", sample_prediction)\n"
      ],
      "metadata": {
        "id": "eBGGthwgsZvN",
        "colab": {
          "base_uri": "https://localhost:8080/"
        },
        "outputId": "67b77cfa-85b8-46a5-be5a-0d01d51c1ad7"
      },
      "execution_count": null,
      "outputs": [
        {
          "output_type": "stream",
          "name": "stdout",
          "text": [
            "✅ Model saved successfully as 'rf_parking_model.pkl'!\n",
            "✅ Sample Predictions after Loading: [1 0 0 0 1]\n"
          ]
        }
      ]
    },
    {
      "cell_type": "markdown",
      "source": [
        "Customer Question\n",
        "➡️\n",
        "\n",
        "Convert it into Feature Variables (X format)\n",
        "➡️\n",
        "\n",
        "Pass into rf_model.predict()\n",
        "➡️\n",
        "\n",
        "Get Prediction (0 = filled, 1 = available)\n",
        "➡️\n",
        "\n",
        "Answer customer: \"Yes slot available\" or \"No slot filled\"\n"
      ],
      "metadata": {
        "id": "HfMv9FR6w2jO"
      }
    },
    {
      "cell_type": "code",
      "source": [
        "# Example: Customer asks — \"Will slot 101 be free on Sunday at 7 PM on Hiram Pl?\"\n",
        "\n",
        "# Step 1: Prepare the input\n",
        "new_data = {\n",
        "    'Slot Number': 101,\n",
        "    'Timing': 19,          # 7 PM = 19\n",
        "    'Latitude': 40.7410,   # (example lat of Hiram Pl)\n",
        "    'Longitude': -74.1550, # (example long of Hiram Pl)\n",
        "    'Paid/Free': 1,        # Free\n",
        "    'peak_hour': 1,        # 7 PM = Peak Hour\n",
        "    'weekend': 1,          # Sunday = Weekend\n",
        "    'street_popularity': 2, # (example popularity score for Hiram Pl)\n",
        "    'cleaning_risk': 0,    # No cleaning on Sunday\n",
        "    'safety_category': 3,  # Good Safety\n",
        "    'status_encoded': 0    # Assume Free_Empty\n",
        "}\n",
        "\n",
        "# Step 2: Convert into correct order DataFrame\n",
        "import pandas as pd\n",
        "\n",
        "new_df = pd.DataFrame([new_data])  # one row\n",
        "\n",
        "# Step 3: Predict using loaded model\n",
        "prediction = rf_model.predict(new_df)\n",
        "\n",
        "# Step 4: Interpret result\n",
        "if prediction[0] == 1:\n",
        "    print(\"✅ Slot is likely to be AVAILABLE!\")\n",
        "else:\n",
        "    print(\"❌ Slot is likely to be FILLED.\")\n"
      ],
      "metadata": {
        "id": "U98BTF3HsZr7",
        "colab": {
          "base_uri": "https://localhost:8080/"
        },
        "outputId": "b87421e1-1b36-437e-aa10-dd5e9cf5ff65"
      },
      "execution_count": null,
      "outputs": [
        {
          "output_type": "stream",
          "name": "stdout",
          "text": [
            "✅ Slot is likely to be AVAILABLE!\n"
          ]
        }
      ]
    },
    {
      "cell_type": "markdown",
      "source": [
        "#Creating chatbot"
      ],
      "metadata": {
        "id": "0auLlpeIw_YI"
      }
    },
    {
      "cell_type": "markdown",
      "source": [
        "Step\tAction\n",
        "\n",
        "1\tTranslate customer language into model features\n",
        "\n",
        "2\tCreate DataFrame from customer inputs\n",
        "\n",
        "3\tPredict using rf_model\n",
        "\n",
        "4\tChatbot just shows the final Yes/No answer nicely"
      ],
      "metadata": {
        "id": "Uj9KOPYRxDAz"
      }
    },
    {
      "cell_type": "markdown",
      "source": [
        "#setting up spaCy NLP feature extraction"
      ],
      "metadata": {
        "id": "H7fIF3XP3E6Z"
      }
    },
    {
      "cell_type": "markdown",
      "source": [],
      "metadata": {
        "id": "8myIzvMG3NkD"
      }
    },
    {
      "cell_type": "code",
      "source": [
        "!pip install spacy\n"
      ],
      "metadata": {
        "colab": {
          "base_uri": "https://localhost:8080/"
        },
        "id": "yKhPbdjM3QK2",
        "outputId": "b4121af0-3e8b-479d-ae11-d95fe82e01bc"
      },
      "execution_count": null,
      "outputs": [
        {
          "output_type": "stream",
          "name": "stdout",
          "text": [
            "Requirement already satisfied: spacy in /usr/local/lib/python3.11/dist-packages (3.8.5)\n",
            "Requirement already satisfied: spacy-legacy<3.1.0,>=3.0.11 in /usr/local/lib/python3.11/dist-packages (from spacy) (3.0.12)\n",
            "Requirement already satisfied: spacy-loggers<2.0.0,>=1.0.0 in /usr/local/lib/python3.11/dist-packages (from spacy) (1.0.5)\n",
            "Requirement already satisfied: murmurhash<1.1.0,>=0.28.0 in /usr/local/lib/python3.11/dist-packages (from spacy) (1.0.12)\n",
            "Requirement already satisfied: cymem<2.1.0,>=2.0.2 in /usr/local/lib/python3.11/dist-packages (from spacy) (2.0.11)\n",
            "Requirement already satisfied: preshed<3.1.0,>=3.0.2 in /usr/local/lib/python3.11/dist-packages (from spacy) (3.0.9)\n",
            "Requirement already satisfied: thinc<8.4.0,>=8.3.4 in /usr/local/lib/python3.11/dist-packages (from spacy) (8.3.6)\n",
            "Requirement already satisfied: wasabi<1.2.0,>=0.9.1 in /usr/local/lib/python3.11/dist-packages (from spacy) (1.1.3)\n",
            "Requirement already satisfied: srsly<3.0.0,>=2.4.3 in /usr/local/lib/python3.11/dist-packages (from spacy) (2.5.1)\n",
            "Requirement already satisfied: catalogue<2.1.0,>=2.0.6 in /usr/local/lib/python3.11/dist-packages (from spacy) (2.0.10)\n",
            "Requirement already satisfied: weasel<0.5.0,>=0.1.0 in /usr/local/lib/python3.11/dist-packages (from spacy) (0.4.1)\n",
            "Requirement already satisfied: typer<1.0.0,>=0.3.0 in /usr/local/lib/python3.11/dist-packages (from spacy) (0.15.2)\n",
            "Requirement already satisfied: tqdm<5.0.0,>=4.38.0 in /usr/local/lib/python3.11/dist-packages (from spacy) (4.67.1)\n",
            "Requirement already satisfied: numpy>=1.19.0 in /usr/local/lib/python3.11/dist-packages (from spacy) (2.0.2)\n",
            "Requirement already satisfied: requests<3.0.0,>=2.13.0 in /usr/local/lib/python3.11/dist-packages (from spacy) (2.32.3)\n",
            "Requirement already satisfied: pydantic!=1.8,!=1.8.1,<3.0.0,>=1.7.4 in /usr/local/lib/python3.11/dist-packages (from spacy) (2.11.3)\n",
            "Requirement already satisfied: jinja2 in /usr/local/lib/python3.11/dist-packages (from spacy) (3.1.6)\n",
            "Requirement already satisfied: setuptools in /usr/local/lib/python3.11/dist-packages (from spacy) (75.2.0)\n",
            "Requirement already satisfied: packaging>=20.0 in /usr/local/lib/python3.11/dist-packages (from spacy) (24.2)\n",
            "Requirement already satisfied: langcodes<4.0.0,>=3.2.0 in /usr/local/lib/python3.11/dist-packages (from spacy) (3.5.0)\n",
            "Requirement already satisfied: language-data>=1.2 in /usr/local/lib/python3.11/dist-packages (from langcodes<4.0.0,>=3.2.0->spacy) (1.3.0)\n",
            "Requirement already satisfied: annotated-types>=0.6.0 in /usr/local/lib/python3.11/dist-packages (from pydantic!=1.8,!=1.8.1,<3.0.0,>=1.7.4->spacy) (0.7.0)\n",
            "Requirement already satisfied: pydantic-core==2.33.1 in /usr/local/lib/python3.11/dist-packages (from pydantic!=1.8,!=1.8.1,<3.0.0,>=1.7.4->spacy) (2.33.1)\n",
            "Requirement already satisfied: typing-extensions>=4.12.2 in /usr/local/lib/python3.11/dist-packages (from pydantic!=1.8,!=1.8.1,<3.0.0,>=1.7.4->spacy) (4.13.2)\n",
            "Requirement already satisfied: typing-inspection>=0.4.0 in /usr/local/lib/python3.11/dist-packages (from pydantic!=1.8,!=1.8.1,<3.0.0,>=1.7.4->spacy) (0.4.0)\n",
            "Requirement already satisfied: charset-normalizer<4,>=2 in /usr/local/lib/python3.11/dist-packages (from requests<3.0.0,>=2.13.0->spacy) (3.4.1)\n",
            "Requirement already satisfied: idna<4,>=2.5 in /usr/local/lib/python3.11/dist-packages (from requests<3.0.0,>=2.13.0->spacy) (3.10)\n",
            "Requirement already satisfied: urllib3<3,>=1.21.1 in /usr/local/lib/python3.11/dist-packages (from requests<3.0.0,>=2.13.0->spacy) (2.4.0)\n",
            "Requirement already satisfied: certifi>=2017.4.17 in /usr/local/lib/python3.11/dist-packages (from requests<3.0.0,>=2.13.0->spacy) (2025.1.31)\n",
            "Requirement already satisfied: blis<1.4.0,>=1.3.0 in /usr/local/lib/python3.11/dist-packages (from thinc<8.4.0,>=8.3.4->spacy) (1.3.0)\n",
            "Requirement already satisfied: confection<1.0.0,>=0.0.1 in /usr/local/lib/python3.11/dist-packages (from thinc<8.4.0,>=8.3.4->spacy) (0.1.5)\n",
            "Requirement already satisfied: click>=8.0.0 in /usr/local/lib/python3.11/dist-packages (from typer<1.0.0,>=0.3.0->spacy) (8.1.8)\n",
            "Requirement already satisfied: shellingham>=1.3.0 in /usr/local/lib/python3.11/dist-packages (from typer<1.0.0,>=0.3.0->spacy) (1.5.4)\n",
            "Requirement already satisfied: rich>=10.11.0 in /usr/local/lib/python3.11/dist-packages (from typer<1.0.0,>=0.3.0->spacy) (13.9.4)\n",
            "Requirement already satisfied: cloudpathlib<1.0.0,>=0.7.0 in /usr/local/lib/python3.11/dist-packages (from weasel<0.5.0,>=0.1.0->spacy) (0.21.0)\n",
            "Requirement already satisfied: smart-open<8.0.0,>=5.2.1 in /usr/local/lib/python3.11/dist-packages (from weasel<0.5.0,>=0.1.0->spacy) (7.1.0)\n",
            "Requirement already satisfied: MarkupSafe>=2.0 in /usr/local/lib/python3.11/dist-packages (from jinja2->spacy) (3.0.2)\n",
            "Requirement already satisfied: marisa-trie>=1.1.0 in /usr/local/lib/python3.11/dist-packages (from language-data>=1.2->langcodes<4.0.0,>=3.2.0->spacy) (1.2.1)\n",
            "Requirement already satisfied: markdown-it-py>=2.2.0 in /usr/local/lib/python3.11/dist-packages (from rich>=10.11.0->typer<1.0.0,>=0.3.0->spacy) (3.0.0)\n",
            "Requirement already satisfied: pygments<3.0.0,>=2.13.0 in /usr/local/lib/python3.11/dist-packages (from rich>=10.11.0->typer<1.0.0,>=0.3.0->spacy) (2.19.1)\n",
            "Requirement already satisfied: wrapt in /usr/local/lib/python3.11/dist-packages (from smart-open<8.0.0,>=5.2.1->weasel<0.5.0,>=0.1.0->spacy) (1.17.2)\n",
            "Requirement already satisfied: mdurl~=0.1 in /usr/local/lib/python3.11/dist-packages (from markdown-it-py>=2.2.0->rich>=10.11.0->typer<1.0.0,>=0.3.0->spacy) (0.1.2)\n"
          ]
        }
      ]
    },
    {
      "cell_type": "code",
      "source": [
        "!python -m spacy download en_core_web_sm\n"
      ],
      "metadata": {
        "colab": {
          "base_uri": "https://localhost:8080/"
        },
        "id": "GFFp9JgL3Tnu",
        "outputId": "8a532af8-89eb-4bf3-b0a0-e9844bbb2491"
      },
      "execution_count": null,
      "outputs": [
        {
          "output_type": "stream",
          "name": "stdout",
          "text": [
            "Collecting en-core-web-sm==3.8.0\n",
            "  Downloading https://github.com/explosion/spacy-models/releases/download/en_core_web_sm-3.8.0/en_core_web_sm-3.8.0-py3-none-any.whl (12.8 MB)\n",
            "\u001b[2K     \u001b[90m━━━━━━━━━━━━━━━━━━━━━━━━━━━━━━━━━━━━━━━━\u001b[0m \u001b[32m12.8/12.8 MB\u001b[0m \u001b[31m60.2 MB/s\u001b[0m eta \u001b[36m0:00:00\u001b[0m\n",
            "\u001b[?25h\u001b[38;5;2m✔ Download and installation successful\u001b[0m\n",
            "You can now load the package via spacy.load('en_core_web_sm')\n",
            "\u001b[38;5;3m⚠ Restart to reload dependencies\u001b[0m\n",
            "If you are in a Jupyter or Colab notebook, you may need to restart Python in\n",
            "order to load all the package's dependencies. You can do this by selecting the\n",
            "'Restart kernel' or 'Restart runtime' option.\n"
          ]
        }
      ]
    },
    {
      "cell_type": "code",
      "source": [
        "import spacy\n",
        "nlp = spacy.load('en_core_web_sm')\n",
        "print(\"✅ spaCy model loaded successfully!\")"
      ],
      "metadata": {
        "colab": {
          "base_uri": "https://localhost:8080/"
        },
        "id": "05aTPutf4jlM",
        "outputId": "d0a7a4a8-430a-40ec-ca78-068625e0551d"
      },
      "execution_count": null,
      "outputs": [
        {
          "output_type": "stream",
          "name": "stdout",
          "text": [
            "✅ spaCy model loaded successfully!\n"
          ]
        }
      ]
    },
    {
      "cell_type": "markdown",
      "source": [
        "**Building Smart Feature Extraction Using spaCy**"
      ],
      "metadata": {
        "id": "LuTvkn5G5FLp"
      }
    },
    {
      "cell_type": "code",
      "source": [
        "# Streets list (add all your real street names)\n",
        "streets_list = [\n",
        "    \"Hiram Pl\", \"Warren St\", \"Hamilton St\", \"Harrison Ave\", \"Davis Ct\",\n",
        "    \"Ann St\", \"Cleveland Ave\", \"Kingsland Ave\", \"Supor Blvd\",\n",
        "    \"6th St\", \"7th St\", \"Jersey St\"\n",
        "]\n",
        "\n",
        "def spacy_extract_features(text):\n",
        "    doc = nlp(text.lower())  # Process text through spaCy\n",
        "\n",
        "    extracted = {\n",
        "        'Slot Number': None,\n",
        "        'Street Name': None,\n",
        "        'Paid/Free': None,\n",
        "        'Timing': None,\n",
        "        'Day': None\n",
        "    }\n",
        "\n",
        "    # 1. Extract Slot Number\n",
        "    for token in doc:\n",
        "        if token.text == 'slot' and token.nbor(1).like_num:\n",
        "            extracted['Slot Number'] = int(token.nbor(1).text)\n",
        "\n",
        "    # 2. Extract Street Name\n",
        "    for street in streets_list:\n",
        "        if street.lower() in text.lower():\n",
        "            extracted['Street Name'] = street\n",
        "            break\n",
        "\n",
        "    # 3. Extract Paid/Free\n",
        "    if 'free' in text.lower():\n",
        "        extracted['Paid/Free'] = 1\n",
        "    elif 'paid' in text.lower():\n",
        "        extracted['Paid/Free'] = 0\n",
        "\n",
        "    # 4. Extract Time\n",
        "    for ent in doc.ents:\n",
        "        if ent.label_ == \"TIME\":\n",
        "            time_text = ent.text\n",
        "            # Example simple logic\n",
        "            if 'am' in time_text or 'pm' in time_text:\n",
        "                hour_match = re.search(r\"(\\d+)\", time_text)\n",
        "                if hour_match:\n",
        "                    hour = int(hour_match.group(1))\n",
        "                    if 'pm' in time_text and hour != 12:\n",
        "                        hour += 12\n",
        "                    elif 'am' in time_text and hour == 12:\n",
        "                        hour = 0\n",
        "                    extracted['Timing'] = hour\n",
        "\n",
        "    # Default fallback for morning/afternoon/evening/night\n",
        "    if extracted['Timing'] is None:\n",
        "        if 'morning' in text:\n",
        "            extracted['Timing'] = 9\n",
        "        elif 'afternoon' in text:\n",
        "            extracted['Timing'] = 14\n",
        "        elif 'evening' in text:\n",
        "            extracted['Timing'] = 19\n",
        "        elif 'night' in text:\n",
        "            extracted['Timing'] = 21\n",
        "\n",
        "    # 5. Extract Day\n",
        "    days_list = ['monday', 'tuesday', 'wednesday', 'thursday', 'friday', 'saturday', 'sunday']\n",
        "    for day in days_list:\n",
        "        if day in text.lower():\n",
        "            extracted['Day'] = day.capitalize()\n",
        "            break\n",
        "\n",
        "    return extracted\n"
      ],
      "metadata": {
        "id": "2R3W3k2b4xv_"
      },
      "execution_count": null,
      "outputs": []
    },
    {
      "cell_type": "markdown",
      "source": [
        "**Code Plan for Mapping Features**"
      ],
      "metadata": {
        "id": "x6L1lQac5iad"
      }
    },
    {
      "cell_type": "code",
      "source": [
        "# Assume features extracted from customer text\n",
        "extracted = {\n",
        "    'Slot Number': None,\n",
        "    'Street Name': 'Hiram Pl',\n",
        "    'Paid/Free': 1,\n",
        "    'Timing': 19,\n",
        "    'Day': 'Sunday'\n",
        "}\n",
        "\n",
        "# Assume you have the full dataset loaded already (your Phase 5 data)\n",
        "import pandas as pd\n",
        "\n",
        "# Load Phase 5 dataset (your final training dataset with features)\n",
        "df_full = pd.read_csv('/content/phase4_final_full_dataset.csv')\n",
        "\n",
        "# Create empty model input row\n",
        "model_input = {}\n",
        "\n",
        "# Step 1: Paid/Free\n",
        "model_input['Paid/Free'] = extracted['Paid/Free'] if extracted['Paid/Free'] is not None else 1  # assume Free by default\n",
        "\n",
        "# Step 2: Timing\n",
        "model_input['Timing'] = extracted['Timing'] if extracted['Timing'] is not None else 12  # Noon default\n",
        "\n",
        "# Step 3: Slot Number (optional, ignore if not available)\n",
        "if extracted['Slot Number'] is not None:\n",
        "    model_input['Slot Number'] = extracted['Slot Number']\n",
        "else:\n",
        "    model_input['Slot Number'] = 100  # Any random safe slot id\n",
        "\n",
        "# Step 4: Encode Street Name\n",
        "street_encoding = {name: idx for idx, name in enumerate(df_full['Street Name'].unique())}\n",
        "if extracted['Street Name'] is not None:\n",
        "    model_input['Street Name'] = street_encoding.get(extracted['Street Name'], 0)\n",
        "else:\n",
        "    model_input['Street Name'] = 0\n",
        "\n",
        "# Step 5: Days (One-hot encode)\n",
        "for day in ['Monday', 'Tuesday', 'Wednesday', 'Thursday', 'Friday', 'Saturday', 'Sunday']:\n",
        "    column_name = f'day_{day}'\n",
        "    if extracted['Day'] == day:\n",
        "        model_input[column_name] = 1\n",
        "    else:\n",
        "        model_input[column_name] = 0\n",
        "\n",
        "# Step 6: Weekend\n",
        "if extracted['Day'] in ['Saturday', 'Sunday']:\n",
        "    model_input['weekend'] = 1\n",
        "else:\n",
        "    model_input['weekend'] = 0\n",
        "\n",
        "# Step 7: Cleaning Days (We assume defaults: cleaning happens Mon+Fri)\n",
        "for clean_day in ['cleaning_mon', 'cleaning_tue', 'cleaning_wed', 'cleaning_thu', 'cleaning_fri']:\n",
        "    model_input[clean_day] = 1 if clean_day in ['cleaning_mon', 'cleaning_fri'] else 0\n",
        "\n",
        "# Step 8: Cleaning Start/End Hour (Default)\n",
        "model_input['cleaning_start_hour'] = 1\n",
        "model_input['cleaning_end_hour'] = 5\n",
        "\n",
        "# Step 9: Street Popularity (default Medium = 2)\n",
        "model_input['street_popularity'] = 2\n",
        "\n",
        "# Step 10: Safety Category (default good = 4)\n",
        "model_input['safety_category'] = 4\n",
        "\n",
        "# ✅ Final model input ready!\n",
        "print(model_input)\n"
      ],
      "metadata": {
        "colab": {
          "base_uri": "https://localhost:8080/"
        },
        "id": "o0wJ7ujE5m4g",
        "outputId": "92296ad5-d5c4-470b-d7a5-86e230666d0a"
      },
      "execution_count": null,
      "outputs": [
        {
          "output_type": "stream",
          "name": "stdout",
          "text": [
            "{'Paid/Free': 1, 'Timing': 19, 'Slot Number': 100, 'Street Name': 0, 'day_Monday': 0, 'day_Tuesday': 0, 'day_Wednesday': 0, 'day_Thursday': 0, 'day_Friday': 0, 'day_Saturday': 0, 'day_Sunday': 1, 'weekend': 1, 'cleaning_mon': 1, 'cleaning_tue': 0, 'cleaning_wed': 0, 'cleaning_thu': 0, 'cleaning_fri': 1, 'cleaning_start_hour': 1, 'cleaning_end_hour': 5, 'street_popularity': 2, 'safety_category': 4}\n"
          ]
        }
      ]
    },
    {
      "cell_type": "code",
      "source": [
        "import pandas as pd\n",
        "\n",
        "# Step 1: Load your final Phase 5 dataset (the one used for training)\n",
        "df_train = pd.read_csv('/content/phase4_final_full_dataset.csv')\n",
        "\n",
        "# Step 2: Get the exact feature columns model was trained on\n",
        "train_features = list(df_train.columns)\n",
        "train_features.remove('Target_fe')  # Remove target label, keep only input features\n",
        "\n",
        "print(\"✅ Model expects these features:\", train_features)\n",
        "\n",
        "# Step 3: Suppose you have extracted these features from customer text\n",
        "extracted = {\n",
        "    'Slot Number': None,\n",
        "    'Street Name': 'Hiram Pl',\n",
        "    'Paid/Free': 1,\n",
        "    'Timing': 19,\n",
        "    'Day': 'Sunday'\n",
        "}\n",
        "\n",
        "# Step 4: Build correct model_input with ALL required features\n",
        "# Initialize empty input with default 0s\n",
        "model_input = {feature: 0 for feature in train_features}\n",
        "\n",
        "# Fill available information smartly:\n",
        "\n",
        "# Paid/Free\n",
        "if 'Paid/Free' in model_input and extracted.get('Paid/Free') is not None:\n",
        "    model_input['Paid/Free'] = extracted['Paid/Free']\n",
        "\n",
        "# Timing\n",
        "if 'Timing' in model_input and extracted.get('Timing') is not None:\n",
        "    model_input['Timing'] = extracted['Timing']\n",
        "\n",
        "# Slot Number\n",
        "if 'Slot Number' in model_input and extracted.get('Slot Number') is not None:\n",
        "    model_input['Slot Number'] = extracted['Slot Number']\n",
        "else:\n",
        "    model_input['Slot Number'] = 100  # Default slot id\n",
        "\n",
        "# Street Name Encoding\n",
        "street_encoding = {name: idx for idx, name in enumerate(df_train['Street Name'].unique())}\n",
        "if 'Street Name' in model_input and extracted.get('Street Name') is not None:\n",
        "    model_input['Street Name'] = street_encoding.get(extracted['Street Name'], 0)\n",
        "\n",
        "# Day columns (one-hot)\n",
        "days_list = ['Monday', 'Tuesday', 'Wednesday', 'Thursday', 'Friday', 'Saturday', 'Sunday']\n",
        "for day in days_list:\n",
        "    col_name = f'day_{day}'\n",
        "    if col_name in model_input:\n",
        "        model_input[col_name] = 1 if extracted.get('Day') == day else 0\n",
        "\n",
        "# Weekend\n",
        "if 'weekend' in model_input:\n",
        "    if extracted.get('Day') in ['Saturday', 'Sunday']:\n",
        "        model_input['weekend'] = 1\n",
        "    else:\n",
        "        model_input['weekend'] = 0\n",
        "\n",
        "# Cleaning Days (set Mon/Fri as default if nothing mentioned)\n",
        "for clean_day in ['cleaning_mon', 'cleaning_tue', 'cleaning_wed', 'cleaning_thu', 'cleaning_fri']:\n",
        "    if clean_day in model_input:\n",
        "        model_input[clean_day] = 1 if clean_day in ['cleaning_mon', 'cleaning_fri'] else 0\n",
        "\n",
        "# Cleaning start/end hours\n",
        "if 'cleaning_start_hour' in model_input:\n",
        "    model_input['cleaning_start_hour'] = 1  # Default\n",
        "if 'cleaning_end_hour' in model_input:\n",
        "    model_input['cleaning_end_hour'] = 5\n",
        "\n",
        "# Street Popularity\n",
        "if 'street_popularity' in model_input:\n",
        "    model_input['street_popularity'] = 2  # Medium popularity by default\n",
        "\n",
        "# Safety Category\n",
        "if 'safety_category' in model_input:\n",
        "    model_input['safety_category'] = 4  # Good Safety by default\n",
        "\n",
        "# Peak Hour (auto detect based on timing)\n",
        "if 'peak_hour' in model_input:\n",
        "    if extracted.get('Timing') is not None and (8 <= extracted['Timing'] <= 10 or 17 <= extracted['Timing'] <= 20):\n",
        "        model_input['peak_hour'] = 1\n",
        "    else:\n",
        "        model_input['peak_hour'] = 0\n",
        "\n",
        "# Cleaning Risk (based on timing)\n",
        "if 'cleaning_risk' in model_input:\n",
        "    if extracted.get('Timing') is not None and (1 <= extracted['Timing'] <= 5):\n",
        "        model_input['cleaning_risk'] = 1\n",
        "    else:\n",
        "        model_input['cleaning_risk'] = 0\n",
        "\n",
        "# Status Encoded\n",
        "if 'status_encoded' in model_input:\n",
        "    model_input['status_encoded'] = 0  # Default assume Free_Empty (you can improve later!)\n",
        "\n",
        "# Step 5: Convert model_input into correct DataFrame\n",
        "model_input_df = pd.DataFrame([model_input])\n",
        "\n",
        "# Step 6: Predict using your model\n",
        "prediction = rf_model.predict(new_df)\n",
        "\n",
        "# Step 7: Generate chatbot answer\n",
        "if prediction[0] == 1:\n",
        "    answer = \"✅ Great news! A parking slot is likely AVAILABLE for you. 🚗✨\"\n",
        "else:\n",
        "    answer = \"❌ Sorry, it looks like parking is likely FILLED at that time. 🅿️🚫\"\n",
        "\n",
        "print(answer)\n"
      ],
      "metadata": {
        "colab": {
          "base_uri": "https://localhost:8080/"
        },
        "id": "xR1FEWhW8GcX",
        "outputId": "47479dbe-c827-4ac9-e18a-acab3d79d78d"
      },
      "execution_count": null,
      "outputs": [
        {
          "output_type": "stream",
          "name": "stdout",
          "text": [
            "✅ Model expects these features: ['Slot Number', 'Date', 'Timing', 'Street Name', 'Zone ID', 'Latitude', 'Longitude', 'Slot Length', 'Paid/Free', 'pf_color', 'ef_color', 'Status', 'Paid End Time', 'Negative', 'Neutral', 'Positive', 'Rating', 'day_Friday', 'day_Monday', 'day_Saturday', 'day_Sunday', 'day_Thursday', 'day_Tuesday', 'day_Wednesday', 'cleaning_mon', 'cleaning_tue', 'cleaning_wed', 'cleaning_thu', 'cleaning_fri', 'cleaning_start_hour', 'cleaning_end_hour', 'peak_hour', 'weekend', 'street_popularity', 'cleaning_risk', 'safety_category']\n",
            "✅ Great news! A parking slot is likely AVAILABLE for you. 🚗✨\n"
          ]
        }
      ]
    },
    {
      "cell_type": "code",
      "source": [
        "# Step 1: Convert model_input to correct format\n",
        "import pandas as pd\n",
        "\n",
        "# Make sure model_input is wrapped in a list because predict expects multiple rows\n",
        "model_input_df = pd.DataFrame([model_input])\n",
        "\n",
        "# Step 2: Predict using your trained model\n",
        "prediction = rf_model.predict(new_df)\n",
        "\n",
        "# Step 3: Generate Chatbot Friendly Answer\n",
        "if prediction[0] == 1:\n",
        "    answer = \"✅ Great news! A parking slot is likely AVAILABLE for you. 🚗✨\"\n",
        "else:\n",
        "    answer = \"❌ Sorry, it looks like parking is likely FILLED at that time. 🅿️🚫\"\n",
        "\n",
        "# Step 4: Show the answer\n",
        "print(answer)\n"
      ],
      "metadata": {
        "colab": {
          "base_uri": "https://localhost:8080/"
        },
        "id": "lTlNhW0u6paF",
        "outputId": "7903963b-62ff-4c5f-f392-df13cba4df89"
      },
      "execution_count": null,
      "outputs": [
        {
          "output_type": "stream",
          "name": "stdout",
          "text": [
            "✅ Great news! A parking slot is likely AVAILABLE for you. 🚗✨\n"
          ]
        }
      ]
    },
    {
      "cell_type": "code",
      "source": [
        "# Phase 7 Step 1: Basic Chatbot Text Input Loop\n",
        "\n",
        "print(\"🚗 Welcome to Parking Assistant Chatbot!\")\n",
        "print(\"💬 Ask me any parking question (type 'exit' to stop).\")\n",
        "\n",
        "while True:\n",
        "    user_message = input(\"\\n👤 You: \")  # Take user message\n",
        "\n",
        "    # Step 1: Exit condition\n",
        "    if user_message.lower() in ['exit', 'bye', 'quit']:\n",
        "        print(\"\\n🤖 Chatbot: Thank you! Drive safe and have a nice day! 🚗✨\")\n",
        "        break\n",
        "\n",
        "    # Step 2: For now just repeat what user said (testing)\n",
        "    print(f\"🤖 Chatbot: You asked - {user_message}\")\n",
        "    print(\"🤖 (In future steps, I will predict parking availability!)\")\n"
      ],
      "metadata": {
        "colab": {
          "base_uri": "https://localhost:8080/"
        },
        "id": "atjYT_eMDzrG",
        "outputId": "bd5c8cef-19b6-4e23-9592-57edfc1d2281"
      },
      "execution_count": null,
      "outputs": [
        {
          "output_type": "stream",
          "name": "stdout",
          "text": [
            "🚗 Welcome to Parking Assistant Chatbot!\n",
            "💬 Ask me any parking question (type 'exit' to stop).\n",
            "\n",
            "👤 You: hi\n",
            "🤖 Chatbot: You asked - hi\n",
            "🤖 (In future steps, I will predict parking availability!)\n",
            "\n",
            "👤 You: exit\n",
            "\n",
            "🤖 Chatbot: Thank you! Drive safe and have a nice day! 🚗✨\n"
          ]
        }
      ]
    },
    {
      "cell_type": "code",
      "source": [
        "import spacy\n",
        "import re\n",
        "import pandas as pd\n",
        "\n",
        "# Load spaCy model\n",
        "nlp = spacy.load('en_core_web_sm')\n",
        "\n",
        "# Streets List\n",
        "streets_list = [\n",
        "    \"Hiram Pl\", \"Warren St\", \"Hamilton St\", \"Harrison Ave\", \"Davis Ct\",\n",
        "    \"Ann St\", \"Cleveland Ave\", \"Kingsland Ave\", \"Supor Blvd\",\n",
        "    \"6th St\", \"7th St\", \"Jersey St\"\n",
        "]\n",
        "\n",
        "# Days List\n",
        "days_list = ['monday', 'tuesday', 'wednesday', 'thursday', 'friday', 'saturday', 'sunday']\n",
        "\n",
        "# Feature Extraction Function\n",
        "def spacy_extract_features(text):\n",
        "    doc = nlp(text.lower())\n",
        "\n",
        "    extracted = {\n",
        "        'Slot Number': None,\n",
        "        'Street Name': None,\n",
        "        'Paid/Free': None,\n",
        "        'Timing': None,\n",
        "        'Day': None\n",
        "    }\n",
        "\n",
        "    # 1. Slot Number\n",
        "    for token in doc:\n",
        "        if token.text == 'slot' and token.nbor(1).like_num:\n",
        "            extracted['Slot Number'] = int(token.nbor(1).text)\n",
        "\n",
        "    # 2. Street Name\n",
        "    for street in streets_list:\n",
        "        if street.lower() in text.lower():\n",
        "            extracted['Street Name'] = street\n",
        "            break\n",
        "\n",
        "    # 3. Paid/Free\n",
        "    if 'free' in text.lower():\n",
        "        extracted['Paid/Free'] = 1\n",
        "    elif 'paid' in text.lower():\n",
        "        extracted['Paid/Free'] = 0\n",
        "\n",
        "    # 4. Timing (hour)\n",
        "    for ent in doc.ents:\n",
        "        if ent.label_ == \"TIME\":\n",
        "            time_text = ent.text\n",
        "            hour_match = re.search(r\"(\\d+)\", time_text)\n",
        "            if hour_match:\n",
        "                hour = int(hour_match.group(1))\n",
        "                if 'pm' in time_text and hour != 12:\n",
        "                    hour += 12\n",
        "                elif 'am' in time_text and hour == 12:\n",
        "                    hour = 0\n",
        "                extracted['Timing'] = hour\n",
        "    if extracted['Timing'] is None:\n",
        "        if 'morning' in text:\n",
        "            extracted['Timing'] = 9\n",
        "        elif 'afternoon' in text:\n",
        "            extracted['Timing'] = 14\n",
        "        elif 'evening' in text:\n",
        "            extracted['Timing'] = 19\n",
        "        elif 'night' in text:\n",
        "            extracted['Timing'] = 21\n",
        "\n",
        "    # 5. Day\n",
        "    for day in days_list:\n",
        "        if day in text.lower():\n",
        "            extracted['Day'] = day.capitalize()\n",
        "            break\n",
        "\n",
        "    return extracted\n",
        "\n",
        "# Load your trained model (rf_model should already be available)\n",
        "\n",
        "# Now Upgrade Chatbot Loop 🚀\n",
        "print(\"🚗 Welcome to Parking Assistant Chatbot!\")\n",
        "print(\"💬 Ask me any parking question (type 'exit' to stop).\")\n",
        "\n",
        "while True:\n",
        "    user_message = input(\"\\n👤 You: \")\n",
        "\n",
        "    # Step 1: Exit condition\n",
        "    if user_message.lower() in ['exit', 'bye', 'quit']:\n",
        "        print(\"\\n🤖 Chatbot: Thank you! Drive safe and have a nice day! 🚗✨\")\n",
        "        break\n",
        "\n",
        "    # Step 2: Extract features using spaCy\n",
        "    extracted_features = spacy_extract_features(user_message)\n",
        "    print(f\"🤖 Extracted Features: {extracted_features}\")\n",
        "\n",
        "    # (In next Phase 7 Step 3, we will map extracted features to model input and predict!)\n",
        "\n"
      ],
      "metadata": {
        "colab": {
          "base_uri": "https://localhost:8080/"
        },
        "id": "HP04yAZ0E0o1",
        "outputId": "de0ff6a1-1901-465e-ef12-94f7beb1b3af"
      },
      "execution_count": null,
      "outputs": [
        {
          "output_type": "stream",
          "name": "stdout",
          "text": [
            "🚗 Welcome to Parking Assistant Chatbot!\n",
            "💬 Ask me any parking question (type 'exit' to stop).\n",
            "\n",
            "👤 You: hiram pi is safe\n",
            "🤖 Extracted Features: {'Slot Number': None, 'Street Name': None, 'Paid/Free': None, 'Timing': None, 'Day': None}\n",
            "\n",
            "👤 You: exit\n",
            "\n",
            "🤖 Chatbot: Thank you! Drive safe and have a nice day! 🚗✨\n"
          ]
        }
      ]
    },
    {
      "cell_type": "code",
      "source": [
        "def build_model_input(extracted_features):\n",
        "    # Correct feature columns\n",
        "    feature_columns = [\n",
        "        'Slot Number', 'Timing', 'Latitude', 'Longitude',\n",
        "        'Paid/Free', 'peak_hour', 'weekend',\n",
        "        'street_popularity', 'cleaning_risk',\n",
        "        'safety_category', 'status_encoded'\n",
        "    ]\n",
        "\n",
        "    model_input = {}\n",
        "\n",
        "    # Fill values smartly\n",
        "    model_input['Slot Number'] = extracted_features.get('Slot Number', 100) or 100\n",
        "\n",
        "    # Timing Handling\n",
        "    timing_value = extracted_features.get('Timing')\n",
        "    if timing_value is None:\n",
        "        timing_value = 12  # Default timing 12 Noon\n",
        "    model_input['Timing'] = timing_value\n",
        "\n",
        "    # Default lat/lon (Harrison NJ area)\n",
        "    model_input['Latitude'] = 40.7410\n",
        "    model_input['Longitude'] = -74.1550\n",
        "\n",
        "    model_input['Paid/Free'] = extracted_features.get('Paid/Free', 1)\n",
        "\n",
        "    # Peak Hour\n",
        "    if 8 <= model_input['Timing'] <= 10 or 17 <= model_input['Timing'] <= 20:\n",
        "        model_input['peak_hour'] = 1\n",
        "    else:\n",
        "        model_input['peak_hour'] = 0\n",
        "\n",
        "    # Weekend\n",
        "    if extracted_features.get('Day') in ['Saturday', 'Sunday']:\n",
        "        model_input['weekend'] = 1\n",
        "    else:\n",
        "        model_input['weekend'] = 0\n",
        "\n",
        "    # Street Popularity (default Medium)\n",
        "    model_input['street_popularity'] = 2\n",
        "\n",
        "    # Cleaning Risk\n",
        "    if 1 <= model_input['Timing'] <= 5:\n",
        "        model_input['cleaning_risk'] = 1\n",
        "    else:\n",
        "        model_input['cleaning_risk'] = 0\n",
        "\n",
        "    # Safety Category\n",
        "    model_input['safety_category'] = 4\n",
        "\n",
        "    # Status Encoded\n",
        "    model_input['status_encoded'] = 0\n",
        "\n",
        "    return model_input\n"
      ],
      "metadata": {
        "id": "QQos_fl9FhzU"
      },
      "execution_count": null,
      "outputs": []
    },
    {
      "cell_type": "code",
      "source": [
        "# ✅ After extracted_features are ready\n",
        "\n",
        "# Build the model input\n",
        "model_input = build_model_input(extracted_features)\n",
        "\n",
        "# Convert to DataFrame\n",
        "model_input_df = pd.DataFrame([model_input])\n",
        "\n",
        "# Predict\n",
        "prediction = rf_model.predict(model_input_df)\n",
        "\n",
        "# Generate a friendly answer\n",
        "if prediction[0] == 1:\n",
        "    answer = \"✅ Great news! A parking slot is likely AVAILABLE for you. 🚗✨\"\n",
        "else:\n",
        "    answer = \"❌ Sorry, it looks like parking is likely FILLED at that time. 🅿️🚫\"\n",
        "\n",
        "# Show the answer\n",
        "print(f\"🤖 Chatbot: {answer}\")\n"
      ],
      "metadata": {
        "colab": {
          "base_uri": "https://localhost:8080/"
        },
        "id": "HNs1Toh6I66A",
        "outputId": "c80aa2bd-e0b4-46b4-f00d-2f919c883ea3"
      },
      "execution_count": null,
      "outputs": [
        {
          "output_type": "stream",
          "name": "stdout",
          "text": [
            "🤖 Chatbot: ✅ Great news! A parking slot is likely AVAILABLE for you. 🚗✨\n"
          ]
        }
      ]
    },
    {
      "cell_type": "code",
      "source": [
        "print(\"🚗 Welcome to Parking Assistant Chatbot!\")\n",
        "print(\"💬 Ask me any parking question (type 'exit' to stop).\")\n",
        "\n",
        "while True:\n",
        "    user_message = input(\"\\n👤 You: \")   # <-- This is where you ASK your question\n",
        "\n",
        "    if user_message.lower() in ['exit', 'bye', 'quit']:\n",
        "        print(\"\\n🤖 Chatbot: Thank you! Drive safe and have a nice day! 🚗✨\")\n",
        "        break\n",
        "\n",
        "    # Extract features (spaCy)\n",
        "    extracted_features = spacy_extract_features(user_message)\n",
        "\n",
        "    # Build model input\n",
        "    model_input = build_model_input(extracted_features)\n",
        "\n",
        "    # Predict\n",
        "    model_input_df = pd.DataFrame([model_input])\n",
        "    prediction = rf_model.predict(model_input_df)\n",
        "\n",
        "    # Reply\n",
        "    if prediction[0] == 1:\n",
        "        answer = \"✅ Great news! A parking slot is likely AVAILABLE for you. 🚗✨\"\n",
        "    else:\n",
        "        answer = \"❌ Sorry, it looks like parking is likely FILLED at that time. 🅿️🚫\"\n",
        "\n",
        "    print(f\"🤖 Chatbot: {answer}\")\n"
      ],
      "metadata": {
        "colab": {
          "base_uri": "https://localhost:8080/"
        },
        "id": "ZYYxvAbHMAMu",
        "outputId": "7abcf913-d7ed-4fe0-fc0c-38687e6194e1"
      },
      "execution_count": null,
      "outputs": [
        {
          "output_type": "stream",
          "name": "stdout",
          "text": [
            "🚗 Welcome to Parking Assistant Chatbot!\n",
            "💬 Ask me any parking question (type 'exit' to stop).\n",
            "\n",
            "👤 You: hiram pi parking in sunday\n",
            "🤖 Chatbot: ✅ Great news! A parking slot is likely AVAILABLE for you. 🚗✨\n",
            "\n",
            "👤 You: exit\n",
            "\n",
            "🤖 Chatbot: Thank you! Drive safe and have a nice day! 🚗✨\n"
          ]
        }
      ]
    },
    {
      "cell_type": "code",
      "source": [
        "import spacy\n",
        "import pandas as pd\n",
        "import re\n",
        "\n",
        "# Load your spaCy model\n",
        "nlp = spacy.load('en_core_web_sm')\n",
        "\n",
        "# Dummy: Load your trained model (assuming already available as rf_model)\n",
        "\n",
        "# Streets List (same as before)\n",
        "streets_list = [\n",
        "    \"Hiram Pl\", \"Warren St\", \"Hamilton St\", \"Harrison Ave\", \"Davis Ct\",\n",
        "    \"Ann St\", \"Cleveland Ave\", \"Kingsland Ave\", \"Supor Blvd\",\n",
        "    \"6th St\", \"7th St\", \"Jersey St\"\n",
        "]\n",
        "\n",
        "# Days List\n",
        "days_list = ['monday', 'tuesday', 'wednesday', 'thursday', 'friday', 'saturday', 'sunday']\n",
        "\n",
        "# Dummy: Your street safety ratings (You should load actual ones from your dataset)\n",
        "# Example safety_category values: 4 (High Safety), 3 (Good), 2 (Low), 1 (Risky)\n",
        "street_safety_data = {\n",
        "    \"Hiram Pl\": 4,\n",
        "    \"Warren St\": 3,\n",
        "    \"Hamilton St\": 2,\n",
        "    \"Harrison Ave\": 4,\n",
        "    \"Davis Ct\": 2,\n",
        "    \"Ann St\": 3,\n",
        "    \"Cleveland Ave\": 3,\n",
        "    \"Kingsland Ave\": 4,\n",
        "    \"Supor Blvd\": 2,\n",
        "    \"6th St\": 2,\n",
        "    \"7th St\": 2,\n",
        "    \"Jersey St\": 3\n",
        "}\n",
        "\n",
        "# Feature Extraction Function\n",
        "def spacy_extract_features(text):\n",
        "    doc = nlp(text.lower())\n",
        "\n",
        "    extracted = {\n",
        "        'Slot Number': None,\n",
        "        'Street Name': None,\n",
        "        'Paid/Free': None,\n",
        "        'Timing': None,\n",
        "        'Day': None\n",
        "    }\n",
        "\n",
        "    for token in doc:\n",
        "        if token.text == 'slot' and token.nbor(1).like_num:\n",
        "            extracted['Slot Number'] = int(token.nbor(1).text)\n",
        "\n",
        "    for street in streets_list:\n",
        "        if street.lower() in text.lower():\n",
        "            extracted['Street Name'] = street\n",
        "            break\n",
        "\n",
        "    if 'free' in text.lower():\n",
        "        extracted['Paid/Free'] = 1\n",
        "    elif 'paid' in text.lower():\n",
        "        extracted['Paid/Free'] = 0\n",
        "\n",
        "    for ent in doc.ents:\n",
        "        if ent.label_ == \"TIME\":\n",
        "            time_text = ent.text\n",
        "            hour_match = re.search(r\"(\\d+)\", time_text)\n",
        "            if hour_match:\n",
        "                hour = int(hour_match.group(1))\n",
        "                if 'pm' in time_text and hour != 12:\n",
        "                    hour += 12\n",
        "                elif 'am' in time_text and hour == 12:\n",
        "                    hour = 0\n",
        "                extracted['Timing'] = hour\n",
        "    if extracted['Timing'] is None:\n",
        "        if 'morning' in text:\n",
        "            extracted['Timing'] = 9\n",
        "        elif 'afternoon' in text:\n",
        "            extracted['Timing'] = 14\n",
        "        elif 'evening' in text:\n",
        "            extracted['Timing'] = 19\n",
        "        elif 'night' in text:\n",
        "            extracted['Timing'] = 21\n",
        "\n",
        "    for day in days_list:\n",
        "        if day in text.lower():\n",
        "            extracted['Day'] = day.capitalize()\n",
        "            break\n",
        "\n",
        "    return extracted\n",
        "\n",
        "# Build Model Input\n",
        "def build_model_input(extracted_features):\n",
        "    model_input = {}\n",
        "\n",
        "    # Timing Handling\n",
        "    timing_value = extracted_features.get('Timing')\n",
        "    if timing_value is None:\n",
        "        timing_value = 12\n",
        "    model_input['Timing'] = timing_value\n",
        "\n",
        "    model_input['Slot Number'] = extracted_features.get('Slot Number', 100) or 100\n",
        "    model_input['Latitude'] = 40.7410\n",
        "    model_input['Longitude'] = -74.1550\n",
        "    model_input['Paid/Free'] = extracted_features.get('Paid/Free', 1)\n",
        "\n",
        "    if 8 <= model_input['Timing'] <= 10 or 17 <= model_input['Timing'] <= 20:\n",
        "        model_input['peak_hour'] = 1\n",
        "    else:\n",
        "        model_input['peak_hour'] = 0\n",
        "\n",
        "    if extracted_features.get('Day') in ['Saturday', 'Sunday']:\n",
        "        model_input['weekend'] = 1\n",
        "    else:\n",
        "        model_input['weekend'] = 0\n",
        "\n",
        "    model_input['street_popularity'] = 2\n",
        "    model_input['cleaning_risk'] = 1 if 1 <= model_input['Timing'] <= 5 else 0\n",
        "    model_input['safety_category'] = 4\n",
        "    model_input['status_encoded'] = 0\n",
        "\n",
        "    return model_input\n",
        "\n",
        "# Start Chatbot 🚗\n",
        "print(\"🚗 Welcome to Parking Assistant Chatbot!\")\n",
        "print(\"💬 Ask me any parking or safety question (type 'exit' to stop).\")\n",
        "\n",
        "while True:\n",
        "    user_message = input(\"\\n👤 You: \")\n",
        "\n",
        "    if user_message.lower() in ['exit', 'bye', 'quit']:\n",
        "        print(\"\\n🤖 Chatbot: Thank you! Drive safe and have a nice day! 🚗✨\")\n",
        "        break\n",
        "\n",
        "    # Check if user asking about safety\n",
        "    if 'safe' in user_message.lower() or 'safety' in user_message.lower():\n",
        "        # User is asking about street safety\n",
        "        extracted = spacy_extract_features(user_message)\n",
        "        street = extracted.get('Street Name')\n",
        "\n",
        "        if street:\n",
        "            safety = street_safety_data.get(street, None)\n",
        "            if safety == 4:\n",
        "                reply = f\"✅ {street} is a HIGH Safety street. Very safe to park! 🚗✨\"\n",
        "            elif safety == 3:\n",
        "                reply = f\"✅ {street} is a GOOD Safety street. Safe to park! 🚗✨\"\n",
        "            elif safety == 2:\n",
        "                reply = f\"⚠️ {street} is a LOW Safety street. Be cautious! 🚧\"\n",
        "            elif safety == 1:\n",
        "                reply = f\"❌ {street} is a RISKY street. Not recommended to park. ⚠️\"\n",
        "            else:\n",
        "                reply = f\"🤖 Sorry, I don't have safety data for {street}.\"\n",
        "        else:\n",
        "            reply = \"🤖 Please mention a known street name to check safety.\"\n",
        "\n",
        "        print(f\"🤖 Chatbot: {reply}\")\n",
        "\n",
        "    else:\n",
        "        # Normal parking availability prediction\n",
        "        extracted = spacy_extract_features(user_message)\n",
        "        model_input = build_model_input(extracted)\n",
        "        model_input_df = pd.DataFrame([model_input])\n",
        "\n",
        "        prediction = rf_model.predict(model_input_df)\n",
        "\n",
        "        if prediction[0] == 1:\n",
        "            answer = \"✅ Great news! A parking slot is likely AVAILABLE for you. 🚗✨\"\n",
        "        else:\n",
        "            answer = \"❌ Sorry, it looks like parking is likely FILLED at that time. 🅿️🚫\"\n",
        "\n",
        "        print(f\"🤖 Chatbot: {answer}\")\n"
      ],
      "metadata": {
        "colab": {
          "base_uri": "https://localhost:8080/"
        },
        "id": "jG0u0WikNTzW",
        "outputId": "ad7c0029-24ae-420e-f6ee-5f447be76ecb"
      },
      "execution_count": null,
      "outputs": [
        {
          "output_type": "stream",
          "name": "stdout",
          "text": [
            "🚗 Welcome to Parking Assistant Chatbot!\n",
            "💬 Ask me any parking or safety question (type 'exit' to stop).\n",
            "\n",
            "👤 You: exit\n",
            "\n",
            "🤖 Chatbot: Thank you! Drive safe and have a nice day! 🚗✨\n"
          ]
        }
      ]
    },
    {
      "cell_type": "markdown",
      "source": [
        " # Flask Backend Setup Plan"
      ],
      "metadata": {
        "id": "lOhSpj9F-dKN"
      }
    },
    {
      "cell_type": "code",
      "source": [
        "!pip install flask"
      ],
      "metadata": {
        "colab": {
          "base_uri": "https://localhost:8080/"
        },
        "id": "dh9mfPyC-cwn",
        "outputId": "3beb23cb-4e8c-4bff-8861-b57a9aef7e71"
      },
      "execution_count": null,
      "outputs": [
        {
          "output_type": "stream",
          "name": "stdout",
          "text": [
            "Requirement already satisfied: flask in /usr/local/lib/python3.11/dist-packages (3.1.0)\n",
            "Requirement already satisfied: Werkzeug>=3.1 in /usr/local/lib/python3.11/dist-packages (from flask) (3.1.3)\n",
            "Requirement already satisfied: Jinja2>=3.1.2 in /usr/local/lib/python3.11/dist-packages (from flask) (3.1.6)\n",
            "Requirement already satisfied: itsdangerous>=2.2 in /usr/local/lib/python3.11/dist-packages (from flask) (2.2.0)\n",
            "Requirement already satisfied: click>=8.1.3 in /usr/local/lib/python3.11/dist-packages (from flask) (8.1.8)\n",
            "Requirement already satisfied: blinker>=1.9 in /usr/local/lib/python3.11/dist-packages (from flask) (1.9.0)\n",
            "Requirement already satisfied: MarkupSafe>=2.0 in /usr/local/lib/python3.11/dist-packages (from Jinja2>=3.1.2->flask) (3.0.2)\n"
          ]
        }
      ]
    },
    {
      "cell_type": "code",
      "source": [
        "# backend_app.py\n",
        "\n",
        "from flask import Flask, request, jsonify\n",
        "import spacy\n",
        "import pandas as pd\n",
        "import re\n",
        "# (also import your trained model rf_model here)\n",
        "\n",
        "# Load spaCy model\n",
        "nlp = spacy.load('en_core_web_sm')\n",
        "\n",
        "# Assume your RandomForest model is loaded as rf_model\n",
        "\n",
        "# Define streets and their safety ratings\n",
        "streets_list = [\n",
        "    \"Hiram Pl\", \"Warren St\", \"Hamilton St\", \"Harrison Ave\", \"Davis Ct\",\n",
        "    \"Ann St\", \"Cleveland Ave\", \"Kingsland Ave\", \"Supor Blvd\",\n",
        "    \"6th St\", \"7th St\", \"Jersey St\"\n",
        "]\n",
        "\n",
        "street_safety_data = {\n",
        "    \"Hiram Pl\": 4,\n",
        "    \"Warren St\": 3,\n",
        "    \"Hamilton St\": 2,\n",
        "    \"Harrison Ave\": 4,\n",
        "    \"Davis Ct\": 2,\n",
        "    \"Ann St\": 3,\n",
        "    \"Cleveland Ave\": 3,\n",
        "    \"Kingsland Ave\": 4,\n",
        "    \"Supor Blvd\": 2,\n",
        "    \"6th St\": 2,\n",
        "    \"7th St\": 2,\n",
        "    \"Jersey St\": 3\n",
        "}\n",
        "\n",
        "days_list = ['monday', 'tuesday', 'wednesday', 'thursday', 'friday', 'saturday', 'sunday']\n",
        "\n",
        "# Create Flask app\n",
        "app = Flask(__name__)\n",
        "\n",
        "# Define feature extraction function\n",
        "def spacy_extract_features(text):\n",
        "    doc = nlp(text.lower())\n",
        "\n",
        "    extracted = {\n",
        "        'Slot Number': None,\n",
        "        'Street Name': None,\n",
        "        'Paid/Free': None,\n",
        "        'Timing': None,\n",
        "        'Day': None\n",
        "    }\n",
        "\n",
        "    for token in doc:\n",
        "        if token.text == 'slot' and token.nbor(1).like_num:\n",
        "            extracted['Slot Number'] = int(token.nbor(1).text)\n",
        "\n",
        "    for street in streets_list:\n",
        "        if street.lower() in text.lower():\n",
        "            extracted['Street Name'] = street\n",
        "            break\n",
        "\n",
        "    if 'free' in text.lower():\n",
        "        extracted['Paid/Free'] = 1\n",
        "    elif 'paid' in text.lower():\n",
        "        extracted['Paid/Free'] = 0\n",
        "\n",
        "    for ent in doc.ents:\n",
        "        if ent.label_ == \"TIME\":\n",
        "            time_text = ent.text\n",
        "            hour_match = re.search(r\"(\\d+)\", time_text)\n",
        "            if hour_match:\n",
        "                hour = int(hour_match.group(1))\n",
        "                if 'pm' in time_text and hour != 12:\n",
        "                    hour += 12\n",
        "                elif 'am' in time_text and hour == 12:\n",
        "                    hour = 0\n",
        "                extracted['Timing'] = hour\n",
        "\n",
        "    if extracted['Timing'] is None:\n",
        "        if 'morning' in text:\n",
        "            extracted['Timing'] = 9\n",
        "        elif 'afternoon' in text:\n",
        "            extracted['Timing'] = 14\n",
        "        elif 'evening' in text:\n",
        "            extracted['Timing'] = 19\n",
        "        elif 'night' in text:\n",
        "            extracted['Timing'] = 21\n",
        "\n",
        "    for day in days_list:\n",
        "        if day in text.lower():\n",
        "            extracted['Day'] = day.capitalize()\n",
        "            break\n",
        "\n",
        "    return extracted\n",
        "\n",
        "# Build model input\n",
        "def build_model_input(extracted_features):\n",
        "    model_input = {}\n",
        "\n",
        "    timing_value = extracted_features.get('Timing')\n",
        "    if timing_value is None:\n",
        "        timing_value = 12\n",
        "    model_input['Timing'] = timing_value\n",
        "\n",
        "    model_input['Slot Number'] = extracted_features.get('Slot Number', 100) or 100\n",
        "    model_input['Latitude'] = 40.7410\n",
        "    model_input['Longitude'] = -74.1550\n",
        "    model_input['Paid/Free'] = extracted_features.get('Paid/Free', 1)\n",
        "\n",
        "    if 8 <= model_input['Timing'] <= 10 or 17 <= model_input['Timing'] <= 20:\n",
        "        model_input['peak_hour'] = 1\n",
        "    else:\n",
        "        model_input['peak_hour'] = 0\n",
        "\n",
        "    if extracted_features.get('Day') in ['Saturday', 'Sunday']:\n",
        "        model_input['weekend'] = 1\n",
        "    else:\n",
        "        model_input['weekend'] = 0\n",
        "\n",
        "    model_input['street_popularity'] = 2\n",
        "    model_input['cleaning_risk'] = 1 if 1 <= model_input['Timing'] <= 5 else 0\n",
        "    model_input['safety_category'] = 4\n",
        "    model_input['status_encoded'] = 0\n",
        "\n",
        "    return model_input\n",
        "\n",
        "# API Route\n",
        "@app.route('/predict', methods=['POST'])\n",
        "def predict():\n",
        "    data = request.get_json()\n",
        "    user_message = data.get('message', '')\n",
        "\n",
        "    # Safety Question Handling\n",
        "    if 'safe' in user_message.lower() or 'safety' in user_message.lower():\n",
        "        extracted = spacy_extract_features(user_message)\n",
        "        street = extracted.get('Street Name')\n",
        "\n",
        "        if street:\n",
        "            safety = street_safety_data.get(street, None)\n",
        "            if safety == 4:\n",
        "                reply = f\"✅ {street} is a HIGH Safety street. Very safe to park! 🚗✨\"\n",
        "            elif safety == 3:\n",
        "                reply = f\"✅ {street} is a GOOD Safety street. Safe to park! 🚗✨\"\n",
        "            elif safety == 2:\n",
        "                reply = f\"⚠️ {street} is a LOW Safety street. Be cautious! 🚧\"\n",
        "            elif safety == 1:\n",
        "                reply = f\"❌ {street} is a RISKY street. Not recommended to park. ⚠️\"\n",
        "            else:\n",
        "                reply = f\"🤖 Sorry, I don't have safety data for {street}.\"\n",
        "        else:\n",
        "            reply = \"🤖 Please mention a known street name to check safety.\"\n",
        "\n",
        "        return jsonify({'reply': reply})\n",
        "\n",
        "    # Availability Prediction Handling\n",
        "    extracted = spacy_extract_features(user_message)\n",
        "    model_input = build_model_input(extracted)\n",
        "    model_input_df = pd.DataFrame([model_input])\n",
        "\n",
        "    prediction = rf_model.predict(model_input_df)\n",
        "\n",
        "    if prediction[0] == 1:\n",
        "        answer = \"✅ Great news! A parking slot is likely AVAILABLE for you. 🚗✨\"\n",
        "    else:\n",
        "        answer = \"❌ Sorry, it looks like parking is likely FILLED at that time. 🅿️🚫\"\n",
        "\n",
        "    return jsonify({'reply': answer})\n",
        "\n",
        "# Run Flask App\n",
        "if __name__ == '__main__':\n",
        "    app.run(host='0.0.0.0', port=5000)\n"
      ],
      "metadata": {
        "colab": {
          "base_uri": "https://localhost:8080/"
        },
        "id": "Cn2d6AcW-yzZ",
        "outputId": "49b62262-0109-414f-8c2a-31ebb8d598d2"
      },
      "execution_count": null,
      "outputs": [
        {
          "output_type": "stream",
          "name": "stdout",
          "text": [
            " * Serving Flask app '__main__'\n",
            " * Debug mode: off\n"
          ]
        },
        {
          "output_type": "stream",
          "name": "stderr",
          "text": [
            "INFO:werkzeug:\u001b[31m\u001b[1mWARNING: This is a development server. Do not use it in a production deployment. Use a production WSGI server instead.\u001b[0m\n",
            " * Running on all addresses (0.0.0.0)\n",
            " * Running on http://127.0.0.1:5000\n",
            " * Running on http://172.28.0.12:5000\n",
            "INFO:werkzeug:\u001b[33mPress CTRL+C to quit\u001b[0m\n"
          ]
        }
      ]
    },
    {
      "cell_type": "code",
      "source": [],
      "metadata": {
        "id": "843CkNVL_irm"
      },
      "execution_count": null,
      "outputs": []
    }
  ]
}